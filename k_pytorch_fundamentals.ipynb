{
  "nbformat": 4,
  "nbformat_minor": 0,
  "metadata": {
    "colab": {
      "provenance": [],
      "gpuType": "T4",
      "authorship_tag": "ABX9TyNmjKNJ9cH9d8DHyaNoZjmX",
      "include_colab_link": true
    },
    "kernelspec": {
      "name": "python3",
      "display_name": "Python 3"
    },
    "language_info": {
      "name": "python"
    },
    "accelerator": "GPU"
  },
  "cells": [
    {
      "cell_type": "markdown",
      "metadata": {
        "id": "view-in-github",
        "colab_type": "text"
      },
      "source": [
        "<a href=\"https://colab.research.google.com/github/kanedc/Learning_Pytorch/blob/main/k_pytorch_fundamentals.ipynb\" target=\"_parent\"><img src=\"https://colab.research.google.com/assets/colab-badge.svg\" alt=\"Open In Colab\"/></a>"
      ]
    },
    {
      "cell_type": "markdown",
      "source": [
        "# start\n"
      ],
      "metadata": {
        "id": "ZdIqGHcj-zt9"
      }
    },
    {
      "cell_type": "code",
      "source": [
        "import torch\n",
        "import pandas as pd\n",
        "import numpy as np\n",
        "import matplotlib.pyplot as plt\n",
        "print(torch.__version__)"
      ],
      "metadata": {
        "colab": {
          "base_uri": "https://localhost:8080/"
        },
        "id": "fQRfwa7Oy8Y4",
        "outputId": "97d1638a-f151-48ff-8807-b4d8c9d75c9c"
      },
      "execution_count": 3,
      "outputs": [
        {
          "output_type": "stream",
          "name": "stdout",
          "text": [
            "2.6.0+cu124\n"
          ]
        }
      ]
    },
    {
      "cell_type": "code",
      "execution_count": 1,
      "metadata": {
        "colab": {
          "base_uri": "https://localhost:8080/"
        },
        "id": "W7zg0RD7wNVo",
        "outputId": "9e6dea18-6fe7-4813-ccaa-265f3088bda9"
      },
      "outputs": [
        {
          "output_type": "execute_result",
          "data": {
            "text/plain": [
              "tensor(7)"
            ]
          },
          "metadata": {},
          "execution_count": 1
        }
      ],
      "source": [
        "import torch\n",
        "scalar = torch.tensor(7)\n",
        "scalar"
      ]
    },
    {
      "cell_type": "code",
      "source": [
        "#获得张量的维度数\n",
        "scalar.ndim"
      ],
      "metadata": {
        "colab": {
          "base_uri": "https://localhost:8080/"
        },
        "id": "0_ItklXSzekn",
        "outputId": "18e01884-9390-4b66-dfee-be327c4e57c8"
      },
      "execution_count": 4,
      "outputs": [
        {
          "output_type": "execute_result",
          "data": {
            "text/plain": [
              "0"
            ]
          },
          "metadata": {},
          "execution_count": 4
        }
      ]
    },
    {
      "cell_type": "code",
      "source": [
        "#将张量作为Python整型返回\n",
        "scalar.item()"
      ],
      "metadata": {
        "colab": {
          "base_uri": "https://localhost:8080/"
        },
        "id": "ChUnciUr0Z1-",
        "outputId": "e9df5c3e-c34a-42c6-e88a-50ae6dca3e38"
      },
      "execution_count": 5,
      "outputs": [
        {
          "output_type": "execute_result",
          "data": {
            "text/plain": [
              "7"
            ]
          },
          "metadata": {},
          "execution_count": 5
        }
      ]
    },
    {
      "cell_type": "code",
      "source": [
        "#vector\n",
        "vector = torch.tensor([5,5])\n",
        "vector\n"
      ],
      "metadata": {
        "colab": {
          "base_uri": "https://localhost:8080/"
        },
        "id": "LEAxzruZ2lRH",
        "outputId": "6b0d87e1-24bc-48ec-8d87-40216566bd90"
      },
      "execution_count": 7,
      "outputs": [
        {
          "output_type": "execute_result",
          "data": {
            "text/plain": [
              "tensor([5, 5])"
            ]
          },
          "metadata": {},
          "execution_count": 7
        }
      ]
    },
    {
      "cell_type": "code",
      "source": [
        "vector.ndim"
      ],
      "metadata": {
        "id": "TX8Kyw0y27eu"
      },
      "execution_count": null,
      "outputs": []
    },
    {
      "cell_type": "code",
      "source": [
        "vector.shape"
      ],
      "metadata": {
        "colab": {
          "base_uri": "https://localhost:8080/"
        },
        "id": "o4-1gs7n3Aln",
        "outputId": "a3edf9b7-fb03-402d-8440-f42f86e32879"
      },
      "execution_count": 8,
      "outputs": [
        {
          "output_type": "execute_result",
          "data": {
            "text/plain": [
              "torch.Size([2])"
            ]
          },
          "metadata": {},
          "execution_count": 8
        }
      ]
    },
    {
      "cell_type": "code",
      "source": [
        "#MATRIX\n",
        "MATRIX = torch.tensor([[2,3],[4,5]])\n",
        "MATRIX"
      ],
      "metadata": {
        "colab": {
          "base_uri": "https://localhost:8080/"
        },
        "id": "yLCufm455wYv",
        "outputId": "989bc641-d584-47e2-dff1-e37a0a2fcda7"
      },
      "execution_count": 9,
      "outputs": [
        {
          "output_type": "execute_result",
          "data": {
            "text/plain": [
              "tensor([[2, 3],\n",
              "        [4, 5]])"
            ]
          },
          "metadata": {},
          "execution_count": 9
        }
      ]
    },
    {
      "cell_type": "code",
      "source": [
        "#tensor\n",
        "TENSOR = torch.tensor([[[1,2,3],[1,2,3],[7,7,7]],[[3,6,3],[1,3,5],[7,7,7]]])\n",
        "TENSOR"
      ],
      "metadata": {
        "colab": {
          "base_uri": "https://localhost:8080/"
        },
        "id": "ajY3dRvd8AhX",
        "outputId": "1a7a28ba-ee90-4227-b070-33a3fdf0009b"
      },
      "execution_count": 13,
      "outputs": [
        {
          "output_type": "execute_result",
          "data": {
            "text/plain": [
              "tensor([[[1, 2, 3],\n",
              "         [1, 2, 3],\n",
              "         [7, 7, 7]],\n",
              "\n",
              "        [[3, 6, 3],\n",
              "         [1, 3, 5],\n",
              "         [7, 7, 7]]])"
            ]
          },
          "metadata": {},
          "execution_count": 13
        }
      ]
    },
    {
      "cell_type": "code",
      "source": [
        "TENSOR.ndim"
      ],
      "metadata": {
        "colab": {
          "base_uri": "https://localhost:8080/"
        },
        "id": "oG_Cmaz182UX",
        "outputId": "c71d95d2-8b6d-4aac-b2ad-f5785e71fe58"
      },
      "execution_count": 14,
      "outputs": [
        {
          "output_type": "execute_result",
          "data": {
            "text/plain": [
              "3"
            ]
          },
          "metadata": {},
          "execution_count": 14
        }
      ]
    },
    {
      "cell_type": "code",
      "source": [
        "TENSOR.shape"
      ],
      "metadata": {
        "colab": {
          "base_uri": "https://localhost:8080/"
        },
        "id": "1zMG0fFs85ld",
        "outputId": "a28a2df9-88b7-4c2e-f14f-be3ad9e5eca4"
      },
      "execution_count": 15,
      "outputs": [
        {
          "output_type": "execute_result",
          "data": {
            "text/plain": [
              "torch.Size([2, 3, 3])"
            ]
          },
          "metadata": {},
          "execution_count": 15
        }
      ]
    },
    {
      "cell_type": "markdown",
      "source": [
        "#Random tensor\n",
        " **why random tensor ?**\n",
        "\n",
        "\n",
        "随机张量很重要，因为许多神经网络的学习方式是从充满随机数的张量开始，然后调整这些随机数以更好地表示数据。\n",
        "\n",
        "`从随机数开始---》看数据 ---》更新随机数---》看数据 ---》更新随机数`\n",
        "\n"
      ],
      "metadata": {
        "id": "Mc9IYOGL_Or9"
      }
    },
    {
      "cell_type": "code",
      "source": [
        "#创建一个大小为（3,4）的随机张量\n",
        "random_tensor = torch.rand(1,10,10)\n",
        "random_tensor"
      ],
      "metadata": {
        "colab": {
          "base_uri": "https://localhost:8080/"
        },
        "id": "BW3Z3SuvCksF",
        "outputId": "5386e4de-09da-4129-bbbd-859dd4007f1e"
      },
      "execution_count": 20,
      "outputs": [
        {
          "output_type": "execute_result",
          "data": {
            "text/plain": [
              "tensor([[[0.9536, 0.2180, 0.4545, 0.8545, 0.3221, 0.0578, 0.7255, 0.2077,\n",
              "          0.3599, 0.2573],\n",
              "         [0.7499, 0.3247, 0.8544, 0.0298, 0.4602, 0.9187, 0.2480, 0.0106,\n",
              "          0.2011, 0.2013],\n",
              "         [0.1623, 0.0590, 0.1969, 0.2847, 0.0700, 0.0549, 0.5393, 0.3461,\n",
              "          0.9652, 0.2054],\n",
              "         [0.7365, 0.4379, 0.4485, 0.0436, 0.8243, 0.6125, 0.7355, 0.9512,\n",
              "          0.0984, 0.0493],\n",
              "         [0.3111, 0.0723, 0.8025, 0.4744, 0.5287, 0.1283, 0.1217, 0.8845,\n",
              "          0.5658, 0.8694],\n",
              "         [0.7076, 0.2247, 0.0273, 0.9675, 0.5454, 0.0966, 0.9508, 0.2830,\n",
              "          0.9651, 0.5441],\n",
              "         [0.2291, 0.2732, 0.4838, 0.4494, 0.6076, 0.3569, 0.2699, 0.1242,\n",
              "          0.3464, 0.4927],\n",
              "         [0.2971, 0.5077, 0.7410, 0.1708, 0.3518, 0.2853, 0.4798, 0.3519,\n",
              "          0.4560, 0.6251],\n",
              "         [0.5208, 0.0450, 0.7836, 0.6488, 0.8849, 0.4057, 0.5688, 0.3325,\n",
              "          0.3654, 0.9277],\n",
              "         [0.4909, 0.6721, 0.8071, 0.3322, 0.9833, 0.4825, 0.1844, 0.6861,\n",
              "          0.1829, 0.5457]]])"
            ]
          },
          "metadata": {},
          "execution_count": 20
        }
      ]
    },
    {
      "cell_type": "code",
      "source": [
        "random_tensor.ndim"
      ],
      "metadata": {
        "colab": {
          "base_uri": "https://localhost:8080/"
        },
        "id": "8QyglB1XC7fd",
        "outputId": "1e30f5ca-407d-431e-bafe-292c975deab0"
      },
      "execution_count": 18,
      "outputs": [
        {
          "output_type": "execute_result",
          "data": {
            "text/plain": [
              "3"
            ]
          },
          "metadata": {},
          "execution_count": 18
        }
      ]
    },
    {
      "cell_type": "code",
      "source": [
        "random_tensor.shape"
      ],
      "metadata": {
        "colab": {
          "base_uri": "https://localhost:8080/"
        },
        "id": "TczKC66xDw3M",
        "outputId": "212265ba-3234-422e-c868-2e100efb9314"
      },
      "execution_count": 19,
      "outputs": [
        {
          "output_type": "execute_result",
          "data": {
            "text/plain": [
              "torch.Size([1, 3, 4])"
            ]
          },
          "metadata": {},
          "execution_count": 19
        }
      ]
    },
    {
      "cell_type": "markdown",
      "source": [],
      "metadata": {
        "id": "6kq6sPVh_Pn8"
      }
    }
  ]
}