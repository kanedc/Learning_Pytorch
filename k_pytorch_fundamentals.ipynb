{
  "nbformat": 4,
  "nbformat_minor": 0,
  "metadata": {
    "colab": {
      "provenance": [],
      "collapsed_sections": [
        "eWIu803roe1Y",
        "CDZD92Yb-G45",
        "VXFGbLioELqI",
        "C-FNNDFhaFCe",
        "2-HuX-sAbpgV",
        "2sxKIbgGFOOU",
        "4nAsUU8-HfOL",
        "Mc9IYOGL_Or9",
        "6kq6sPVh_Pn8",
        "6Sx2yMSSXTya",
        "2QlczuSkfR_w",
        "30lQZ7DGLFyj",
        "FCBOfQ0Q9j0s",
        "OxNJAKAq9w9x"
      ],
      "authorship_tag": "ABX9TyMnDYERYxHaJuE3iZwpHqGr",
      "include_colab_link": true
    },
    "kernelspec": {
      "name": "python3",
      "display_name": "Python 3"
    },
    "language_info": {
      "name": "python"
    }
  },
  "cells": [
    {
      "cell_type": "markdown",
      "metadata": {
        "id": "view-in-github",
        "colab_type": "text"
      },
      "source": [
        "<a href=\"https://colab.research.google.com/github/kanedc/Learning_Pytorch/blob/main/k_pytorch_fundamentals.ipynb\" target=\"_parent\"><img src=\"https://colab.research.google.com/assets/colab-badge.svg\" alt=\"Open In Colab\"/></a>"
      ]
    },
    {
      "cell_type": "markdown",
      "source": [
        "#START\n"
      ],
      "metadata": {
        "id": "ZdIqGHcj-zt9"
      }
    },
    {
      "cell_type": "code",
      "source": [
        "import torch\n",
        "import pandas as pd\n",
        "import numpy as np\n",
        "import matplotlib.pyplot as plt\n",
        "print(torch.__version__)"
      ],
      "metadata": {
        "colab": {
          "base_uri": "https://localhost:8080/"
        },
        "id": "fQRfwa7Oy8Y4",
        "outputId": "2da2cf9d-8846-4cf5-955b-b855e0579eb2"
      },
      "execution_count": 1,
      "outputs": [
        {
          "output_type": "stream",
          "name": "stdout",
          "text": [
            "2.6.0+cu124\n"
          ]
        }
      ]
    },
    {
      "cell_type": "code",
      "execution_count": 2,
      "metadata": {
        "colab": {
          "base_uri": "https://localhost:8080/"
        },
        "id": "W7zg0RD7wNVo",
        "outputId": "bd44a319-61da-4c11-a7e5-8b59218c6535"
      },
      "outputs": [
        {
          "output_type": "execute_result",
          "data": {
            "text/plain": [
              "tensor(7)"
            ]
          },
          "metadata": {},
          "execution_count": 2
        }
      ],
      "source": [
        "import torch\n",
        "scalar = torch.tensor(7)\n",
        "scalar"
      ]
    },
    {
      "cell_type": "code",
      "source": [
        "#获得张量的维度数\n",
        "scalar.ndim"
      ],
      "metadata": {
        "colab": {
          "base_uri": "https://localhost:8080/"
        },
        "id": "0_ItklXSzekn",
        "outputId": "356f96df-cab1-4633-fab9-184b0e545993"
      },
      "execution_count": 3,
      "outputs": [
        {
          "output_type": "execute_result",
          "data": {
            "text/plain": [
              "0"
            ]
          },
          "metadata": {},
          "execution_count": 3
        }
      ]
    },
    {
      "cell_type": "code",
      "source": [
        "#将张量作为Python整型返回\n",
        "scalar.item()"
      ],
      "metadata": {
        "colab": {
          "base_uri": "https://localhost:8080/"
        },
        "id": "ChUnciUr0Z1-",
        "outputId": "23272c86-a0f3-4921-da5d-50a17dcd7c2b"
      },
      "execution_count": 4,
      "outputs": [
        {
          "output_type": "execute_result",
          "data": {
            "text/plain": [
              "7"
            ]
          },
          "metadata": {},
          "execution_count": 4
        }
      ]
    },
    {
      "cell_type": "code",
      "source": [
        "#vector\n",
        "vector = torch.tensor([5,5])\n",
        "vector\n"
      ],
      "metadata": {
        "colab": {
          "base_uri": "https://localhost:8080/"
        },
        "id": "LEAxzruZ2lRH",
        "outputId": "529d1b3b-533f-4342-c4d6-6980c9953e39"
      },
      "execution_count": 5,
      "outputs": [
        {
          "output_type": "execute_result",
          "data": {
            "text/plain": [
              "tensor([5, 5])"
            ]
          },
          "metadata": {},
          "execution_count": 5
        }
      ]
    },
    {
      "cell_type": "code",
      "source": [
        "vector.ndim"
      ],
      "metadata": {
        "id": "TX8Kyw0y27eu",
        "colab": {
          "base_uri": "https://localhost:8080/"
        },
        "outputId": "41cdbf2f-071b-4d53-a2aa-7343e37f2599"
      },
      "execution_count": 6,
      "outputs": [
        {
          "output_type": "execute_result",
          "data": {
            "text/plain": [
              "1"
            ]
          },
          "metadata": {},
          "execution_count": 6
        }
      ]
    },
    {
      "cell_type": "code",
      "source": [
        "vector.shape"
      ],
      "metadata": {
        "colab": {
          "base_uri": "https://localhost:8080/"
        },
        "id": "o4-1gs7n3Aln",
        "outputId": "17b83669-16e2-4a1c-f788-a67ea9c9eadf"
      },
      "execution_count": 7,
      "outputs": [
        {
          "output_type": "execute_result",
          "data": {
            "text/plain": [
              "torch.Size([2])"
            ]
          },
          "metadata": {},
          "execution_count": 7
        }
      ]
    },
    {
      "cell_type": "code",
      "source": [
        "#MATRIX\n",
        "MATRIX = torch.tensor([[2,3],[4,5]])\n",
        "MATRIX"
      ],
      "metadata": {
        "colab": {
          "base_uri": "https://localhost:8080/"
        },
        "id": "yLCufm455wYv",
        "outputId": "8c0a24dc-39a3-43e4-984f-e1f84768cc5b"
      },
      "execution_count": 8,
      "outputs": [
        {
          "output_type": "execute_result",
          "data": {
            "text/plain": [
              "tensor([[2, 3],\n",
              "        [4, 5]])"
            ]
          },
          "metadata": {},
          "execution_count": 8
        }
      ]
    },
    {
      "cell_type": "code",
      "source": [
        "#tensor\n",
        "TENSOR = torch.tensor([[[1,2,3],[1,2,3],[7,7,7]],[[3,6,3],[1,3,5],[7,7,7]]])\n",
        "TENSOR"
      ],
      "metadata": {
        "colab": {
          "base_uri": "https://localhost:8080/"
        },
        "id": "ajY3dRvd8AhX",
        "outputId": "9809723f-dc74-4aa5-df8e-cf78f6a42ae9"
      },
      "execution_count": 9,
      "outputs": [
        {
          "output_type": "execute_result",
          "data": {
            "text/plain": [
              "tensor([[[1, 2, 3],\n",
              "         [1, 2, 3],\n",
              "         [7, 7, 7]],\n",
              "\n",
              "        [[3, 6, 3],\n",
              "         [1, 3, 5],\n",
              "         [7, 7, 7]]])"
            ]
          },
          "metadata": {},
          "execution_count": 9
        }
      ]
    },
    {
      "cell_type": "code",
      "source": [
        "TENSOR.ndim"
      ],
      "metadata": {
        "colab": {
          "base_uri": "https://localhost:8080/"
        },
        "id": "oG_Cmaz182UX",
        "outputId": "37ca05a3-8bcd-4dd4-ec33-0f5b84f4dd1b"
      },
      "execution_count": 10,
      "outputs": [
        {
          "output_type": "execute_result",
          "data": {
            "text/plain": [
              "3"
            ]
          },
          "metadata": {},
          "execution_count": 10
        }
      ]
    },
    {
      "cell_type": "code",
      "source": [
        "TENSOR.shape"
      ],
      "metadata": {
        "colab": {
          "base_uri": "https://localhost:8080/"
        },
        "id": "1zMG0fFs85ld",
        "outputId": "f3e4be7a-dd56-409b-ce16-7b7aa754811d"
      },
      "execution_count": 11,
      "outputs": [
        {
          "output_type": "execute_result",
          "data": {
            "text/plain": [
              "torch.Size([2, 3, 3])"
            ]
          },
          "metadata": {},
          "execution_count": 11
        }
      ]
    },
    {
      "cell_type": "code",
      "source": [
        "#Float 32 tensor\n",
        "float_32_tensor = torch.tensor([3.0,6.0,9.0],\n",
        "                 dtype = None,\n",
        "                 device = None,\n",
        "                 requires_grad = False)\n",
        "float_32_tensor"
      ],
      "metadata": {
        "colab": {
          "base_uri": "https://localhost:8080/"
        },
        "id": "82WpGSqjwtAK",
        "outputId": "73d7ae46-0586-4fa3-c0f5-de394a26a775"
      },
      "execution_count": 12,
      "outputs": [
        {
          "output_type": "execute_result",
          "data": {
            "text/plain": [
              "tensor([3., 6., 9.])"
            ]
          },
          "metadata": {},
          "execution_count": 12
        }
      ]
    },
    {
      "cell_type": "code",
      "source": [
        "float_16_tensor = float_32_tensor.type(torch.half)\n",
        "float_16_tensor"
      ],
      "metadata": {
        "colab": {
          "base_uri": "https://localhost:8080/"
        },
        "id": "Eaw8lWiHx1pK",
        "outputId": "e3660ed2-e39a-4620-f01f-4d6a5c2158e9"
      },
      "execution_count": 13,
      "outputs": [
        {
          "output_type": "execute_result",
          "data": {
            "text/plain": [
              "tensor([3., 6., 9.], dtype=torch.float16)"
            ]
          },
          "metadata": {},
          "execution_count": 13
        }
      ]
    },
    {
      "cell_type": "code",
      "source": [
        "float_32_tensor * float_16_tensor"
      ],
      "metadata": {
        "colab": {
          "base_uri": "https://localhost:8080/"
        },
        "id": "qbp9BOObygib",
        "outputId": "b69c112a-63a7-4b80-eb01-3ec6583045ce"
      },
      "execution_count": 14,
      "outputs": [
        {
          "output_type": "execute_result",
          "data": {
            "text/plain": [
              "tensor([ 9., 36., 81.])"
            ]
          },
          "metadata": {},
          "execution_count": 14
        }
      ]
    },
    {
      "cell_type": "code",
      "source": [
        "int_32_tensor = torch.tensor([3,6,9],dtype=torch.long)\n",
        "int_32_tensor\n",
        "int_32_tensor.shape"
      ],
      "metadata": {
        "colab": {
          "base_uri": "https://localhost:8080/"
        },
        "id": "arhrzep3mHjB",
        "outputId": "6518d642-8dbb-4a7e-deca-60f0190d039d"
      },
      "execution_count": 15,
      "outputs": [
        {
          "output_type": "execute_result",
          "data": {
            "text/plain": [
              "torch.Size([3])"
            ]
          },
          "metadata": {},
          "execution_count": 15
        }
      ]
    },
    {
      "cell_type": "markdown",
      "source": [
        "### 从张量中获取信息  （张量的属性）\n",
        "\n",
        "1 张量的数据类型不正确 -- 从张量中获取数据类型，可以使用tensor.dtype\n",
        "\n",
        "2 张量的形状不正确 --- 从张量中获得形状信息，使用tensor.shape\n",
        "\n",
        "3 张量的设备不正确 --- 从张量中获取设备信息，使用tensor.device"
      ],
      "metadata": {
        "id": "eWIu803roe1Y"
      }
    },
    {
      "cell_type": "code",
      "source": [
        "some_tensor = torch.rand(5,7)\n",
        "some_tensor"
      ],
      "metadata": {
        "colab": {
          "base_uri": "https://localhost:8080/"
        },
        "id": "OBoBrF0gpNMH",
        "outputId": "e1fba12f-83fd-4c4a-9d7f-61ff6493cbfe"
      },
      "execution_count": 16,
      "outputs": [
        {
          "output_type": "execute_result",
          "data": {
            "text/plain": [
              "tensor([[0.1262, 0.2836, 0.8180, 0.1385, 0.9383, 0.7057, 0.6596],\n",
              "        [0.9791, 0.9016, 0.9681, 0.8128, 0.6856, 0.0414, 0.2047],\n",
              "        [0.6891, 0.7274, 0.7035, 0.4344, 0.0217, 0.3535, 0.5551],\n",
              "        [0.2473, 0.0072, 0.0875, 0.6507, 0.7942, 0.0205, 0.3907],\n",
              "        [0.5993, 0.1879, 0.7108, 0.1480, 0.7608, 0.5030, 0.2948]])"
            ]
          },
          "metadata": {},
          "execution_count": 16
        }
      ]
    },
    {
      "cell_type": "code",
      "source": [
        "print(some_tensor)\n",
        "print(f\"Datatype of tensor:{some_tensor.dtype}\")\n",
        "print(f\"Shape of tensor:{some_tensor.shape}\")\n",
        "print(f\"Device of tensor:{some_tensor.device}\")"
      ],
      "metadata": {
        "colab": {
          "base_uri": "https://localhost:8080/"
        },
        "id": "CevXdL2_nEUo",
        "outputId": "4a894e3d-cf34-46aa-a4ef-c554f972e822"
      },
      "execution_count": 17,
      "outputs": [
        {
          "output_type": "stream",
          "name": "stdout",
          "text": [
            "tensor([[0.1262, 0.2836, 0.8180, 0.1385, 0.9383, 0.7057, 0.6596],\n",
            "        [0.9791, 0.9016, 0.9681, 0.8128, 0.6856, 0.0414, 0.2047],\n",
            "        [0.6891, 0.7274, 0.7035, 0.4344, 0.0217, 0.3535, 0.5551],\n",
            "        [0.2473, 0.0072, 0.0875, 0.6507, 0.7942, 0.0205, 0.3907],\n",
            "        [0.5993, 0.1879, 0.7108, 0.1480, 0.7608, 0.5030, 0.2948]])\n",
            "Datatype of tensor:torch.float32\n",
            "Shape of tensor:torch.Size([5, 7])\n",
            "Device of tensor:cpu\n"
          ]
        }
      ]
    },
    {
      "cell_type": "markdown",
      "source": [
        "### 张量运算 （manipulation tensor）\n",
        "\n",
        "张量运算：加 减 乘 除 矩阵乘法（点乘）\n",
        "\n",
        "torch.add\n",
        "torch.sub\n",
        "torch.mul\n",
        "tensor.div\n",
        "tensor.matmul\n"
      ],
      "metadata": {
        "id": "YrJYDj76sOzX"
      }
    },
    {
      "cell_type": "markdown",
      "source": [
        "###执行矩阵乘法需要满足的两个主要规则：\n",
        "\n",
        " 内部维度必须匹配  (3,2) @ (2,3)\n",
        "\n",
        " 得到的矩阵具有外部维度的形状 （3,2）@ （2,3）---> （3,3）"
      ],
      "metadata": {
        "id": "CDZD92Yb-G45"
      }
    },
    {
      "cell_type": "code",
      "source": [
        "a=torch.Tensor([1,2,3])\n",
        "b=torch.Tensor([4,5,6])\n",
        "#逐元素相乘（element-wise product）\n",
        "print(torch.mul(a,b))\n",
        "print(f\"* : {a * b}\")"
      ],
      "metadata": {
        "colab": {
          "base_uri": "https://localhost:8080/"
        },
        "id": "ecwUxJzA5T5o",
        "outputId": "5084db12-271d-4c26-9adc-64ea731decf6"
      },
      "execution_count": 18,
      "outputs": [
        {
          "output_type": "stream",
          "name": "stdout",
          "text": [
            "tensor([ 4., 10., 18.])\n",
            "* : tensor([ 4., 10., 18.])\n"
          ]
        }
      ]
    },
    {
      "cell_type": "code",
      "source": [
        "#点乘 内积 数量积 矩阵乘法\n",
        "print(f\"dot : {torch.dot(a,b)}\")\n",
        "print(f\"@ : {a @ b}\")\n",
        "print(f\"matmul : {torch.matmul(a,b)}\")#matmul方法 支持1D到nD张量，广义矩阵乘法\n",
        "c=torch.tensor([[3,2],[5,6],[7,8]])\n",
        "d=torch.tensor([[1,2],[3,4],[1,2]])\n",
        "print(f\"{c.shape} ,{d.shape}\")\n",
        "#print(f\"mm : {torch.mm(c,d)}\")# mm方法 仅支持二维矩阵，矩阵乘法\n",
        "print(f\"mm : {torch.mm(c,d.T)}\")#Transpose - 转置\n",
        "print(f\"mm : {torch.mm(c,d.T).shape}\")\n",
        "print(f\"inner : {torch.inner(a,b)}\")"
      ],
      "metadata": {
        "colab": {
          "base_uri": "https://localhost:8080/"
        },
        "id": "uil1Ve0m7K9i",
        "outputId": "8f8539a1-6f05-4b83-95f7-6f47d014e1b9"
      },
      "execution_count": 19,
      "outputs": [
        {
          "output_type": "stream",
          "name": "stdout",
          "text": [
            "dot : 32.0\n",
            "@ : 32.0\n",
            "matmul : 32.0\n",
            "torch.Size([3, 2]) ,torch.Size([3, 2])\n",
            "mm : tensor([[ 7, 17,  7],\n",
            "        [17, 39, 17],\n",
            "        [23, 53, 23]])\n",
            "mm : torch.Size([3, 3])\n",
            "inner : 32.0\n"
          ]
        }
      ]
    },
    {
      "cell_type": "markdown",
      "source": [
        "###在深度学习中最常见的错误之一： 形状错误"
      ],
      "metadata": {
        "id": "VXFGbLioELqI"
      }
    },
    {
      "cell_type": "code",
      "source": [
        "c=torch.tensor([[3,2],[5,6],[7,8]])\n",
        "d=torch.tensor([[1,2],[3,4],[1,2]])\n",
        "print(f\"{c.shape} ,{d.shape}\")\n",
        "#print(f\"mm : {torch.mm(c,d)}\")\n",
        "print(f\"mm : {torch.mm(c,d.T)}\")#Transpose - 转置"
      ],
      "metadata": {
        "id": "61ZmDN3VEiLH",
        "colab": {
          "base_uri": "https://localhost:8080/"
        },
        "outputId": "00f5458d-d6db-43c8-b240-1da269078235"
      },
      "execution_count": 20,
      "outputs": [
        {
          "output_type": "stream",
          "name": "stdout",
          "text": [
            "torch.Size([3, 2]) ,torch.Size([3, 2])\n",
            "mm : tensor([[ 7, 17,  7],\n",
            "        [17, 39, 17],\n",
            "        [23, 53, 23]])\n"
          ]
        }
      ]
    },
    {
      "cell_type": "markdown",
      "source": [
        "###找到最小值 最大值 平均值 求和 等 张量聚合"
      ],
      "metadata": {
        "id": "BTnih0DMXTuO"
      }
    },
    {
      "cell_type": "code",
      "source": [
        "#创建一个张量\n",
        "a=torch.arange(0,10,1)\n",
        "a,a.dtype"
      ],
      "metadata": {
        "colab": {
          "base_uri": "https://localhost:8080/"
        },
        "id": "7ByMIUC8Xwyk",
        "outputId": "035ffbaf-8f0a-4346-cd3a-1aaafde9ce8a"
      },
      "execution_count": 21,
      "outputs": [
        {
          "output_type": "execute_result",
          "data": {
            "text/plain": [
              "(tensor([0, 1, 2, 3, 4, 5, 6, 7, 8, 9]), torch.int64)"
            ]
          },
          "metadata": {},
          "execution_count": 21
        }
      ]
    },
    {
      "cell_type": "code",
      "source": [
        "#找最小值\n",
        "print(f\"min : {torch.min(a)}\")\n",
        "print(f\"min : {a.min()}\")\n",
        "#找最大值\n",
        "print(f\"max : {torch.max(a)}\")\n",
        "print(f\"max : {a.max()}\")\n",
        "#找平均值 :torch.mean() 函数 需要一个float32数据类型的张量作为参数才能正常工作\n",
        "print(f\"mean : {torch.mean(a.type(torch.float32))}\")"
      ],
      "metadata": {
        "colab": {
          "base_uri": "https://localhost:8080/"
        },
        "id": "ZlGLxCCcYCxV",
        "outputId": "42d84ede-6ea8-47d9-e414-45a9e5d49bc4"
      },
      "execution_count": 22,
      "outputs": [
        {
          "output_type": "stream",
          "name": "stdout",
          "text": [
            "min : 0\n",
            "min : 0\n",
            "max : 9\n",
            "max : 9\n",
            "mean : 4.5\n"
          ]
        }
      ]
    },
    {
      "cell_type": "markdown",
      "source": [
        "###找到最大值和最小值所在的位置"
      ],
      "metadata": {
        "id": "C-FNNDFhaFCe"
      }
    },
    {
      "cell_type": "code",
      "source": [
        "a\n",
        "#找到张量中最大值的位置\n",
        "print(f\"argmax : {torch.argmax(a)}\")\n",
        "#找到张量中最小值的位置\n",
        "print(f\"argmin : {torch.argmin(a)}\")"
      ],
      "metadata": {
        "colab": {
          "base_uri": "https://localhost:8080/"
        },
        "id": "F11Fc8BoYKYU",
        "outputId": "b456df84-5aa7-40bb-ac1c-3ac4b765f962"
      },
      "execution_count": 23,
      "outputs": [
        {
          "output_type": "stream",
          "name": "stdout",
          "text": [
            "argmax : 9\n",
            "argmin : 0\n"
          ]
        }
      ]
    },
    {
      "cell_type": "markdown",
      "source": [
        "###重塑，堆叠，压缩和解压张量\n",
        "\n",
        "Reshaping - 将输入张量重塑为定义的形状\n",
        "\n",
        "View - 返回特定形状的输入张量的视图，但保持与原始张量相同的内存\n",
        "\n",
        "Stacking - 将多个张量彼此叠加(vstack)或并排组合\n",
        "\n",
        "Sqeeze - 从tensor中移除所有 1 维度\n",
        "\n",
        "Unsqeeze - 将 1 维度添加到目标tensor\n",
        "\n",
        "Permute - 返回以特定方式排列维度的输入视图"
      ],
      "metadata": {
        "id": "2-HuX-sAbpgV"
      }
    },
    {
      "cell_type": "code",
      "source": [
        "#stack\n",
        "a_stack = torch.stack([a,a,a,a],dim=0)\n",
        "a_vstack = torch.vstack([a,a,a,a])\n",
        "\n",
        "a1_stack = torch.stack([a,a,a,a],dim=1)\n",
        "a1_hstack = torch.hstack([a,a,a,a])\n",
        "\n",
        "#a_stack,a1_stack\n",
        "#a_vstack,a1_hstack\n",
        "a_stack == a1_stack.T"
      ],
      "metadata": {
        "colab": {
          "base_uri": "https://localhost:8080/"
        },
        "id": "XQcBlbxxiSQ1",
        "outputId": "3c62657b-f5ed-4512-9c78-b3b27970672d"
      },
      "execution_count": 24,
      "outputs": [
        {
          "output_type": "execute_result",
          "data": {
            "text/plain": [
              "tensor([[True, True, True, True, True, True, True, True, True, True],\n",
              "        [True, True, True, True, True, True, True, True, True, True],\n",
              "        [True, True, True, True, True, True, True, True, True, True],\n",
              "        [True, True, True, True, True, True, True, True, True, True]])"
            ]
          },
          "metadata": {},
          "execution_count": 24
        }
      ]
    },
    {
      "cell_type": "code",
      "source": [
        "#\n",
        "x = torch.zeros(2,1,2,1,2)\n",
        "#x,x.shape\n",
        "\n",
        "y = torch.squeeze(x)\n",
        "#y,y.shape\n",
        "\n",
        "z = torch.unsqueeze(y,0)\n",
        "z,z.shape"
      ],
      "metadata": {
        "colab": {
          "base_uri": "https://localhost:8080/"
        },
        "id": "a8r7-LpEp_Es",
        "outputId": "307cbfda-93fe-4731-dffa-933db4a28034"
      },
      "execution_count": 25,
      "outputs": [
        {
          "output_type": "execute_result",
          "data": {
            "text/plain": [
              "(tensor([[[[0., 0.],\n",
              "           [0., 0.]],\n",
              " \n",
              "          [[0., 0.],\n",
              "           [0., 0.]]]]),\n",
              " torch.Size([1, 2, 2, 2]))"
            ]
          },
          "metadata": {},
          "execution_count": 25
        }
      ]
    },
    {
      "cell_type": "code",
      "source": [
        "x = torch.randn(2,3,5)\n",
        "x,x.shape\n",
        "#torch.permute 按照特定顺序重新排列目标张量的维度\n",
        "torch.permute(x,(2,0,1)).shape#移动轴 2->0,0->1,1->2\n"
      ],
      "metadata": {
        "colab": {
          "base_uri": "https://localhost:8080/"
        },
        "id": "8iqHa33RwpM8",
        "outputId": "c1948a96-5588-404f-eb5b-d0067aff8bce"
      },
      "execution_count": 26,
      "outputs": [
        {
          "output_type": "execute_result",
          "data": {
            "text/plain": [
              "torch.Size([5, 2, 3])"
            ]
          },
          "metadata": {},
          "execution_count": 26
        }
      ]
    },
    {
      "cell_type": "code",
      "source": [
        "tensor = torch.tensor([[[1,2,3],[2,3,4],[3,4,5]],[[11,22,33],[22,33,44],[33,44,55]]])\n",
        "#tensor,tensor.shape\n",
        "# print(tensor)\n",
        "# print(tensor[1][0])\n",
        "# print(tensor[1][0][1])\n",
        "# print(tensor[:,:,1])\n",
        "# print(tensor[:,1,1])\n",
        "print(tensor[:,:,2])\n",
        "print(tensor[0][:][2])\n"
      ],
      "metadata": {
        "colab": {
          "base_uri": "https://localhost:8080/"
        },
        "id": "EerM2FH30kf0",
        "outputId": "6eb64ff0-c3b0-4408-96cc-b3e24ecca591"
      },
      "execution_count": 27,
      "outputs": [
        {
          "output_type": "stream",
          "name": "stdout",
          "text": [
            "tensor([[ 3,  4,  5],\n",
            "        [33, 44, 55]])\n",
            "tensor([3, 4, 5])\n"
          ]
        }
      ]
    },
    {
      "cell_type": "code",
      "source": [
        "#Numpy 和 Pytorch\n",
        "import torch\n",
        "import numpy as np\n",
        "\n",
        "array = np.arange(1.0,8.0)\n",
        "tensor = torch.from_numpy(array)\n",
        "#tensor = torch.from_numpy(array).type(torch.float32)#更改数据类型\n",
        "array,tensor"
      ],
      "metadata": {
        "colab": {
          "base_uri": "https://localhost:8080/"
        },
        "id": "kShzzupX9E7U",
        "outputId": "ca5e082e-4444-47f7-d95a-15a240229e47"
      },
      "execution_count": 28,
      "outputs": [
        {
          "output_type": "execute_result",
          "data": {
            "text/plain": [
              "(array([1., 2., 3., 4., 5., 6., 7.]),\n",
              " tensor([1., 2., 3., 4., 5., 6., 7.], dtype=torch.float64))"
            ]
          },
          "metadata": {},
          "execution_count": 28
        }
      ]
    },
    {
      "cell_type": "code",
      "source": [
        "tensor.dtype"
      ],
      "metadata": {
        "colab": {
          "base_uri": "https://localhost:8080/"
        },
        "id": "pQYFokne9ZS0",
        "outputId": "0ef1ccdc-5866-4e78-a34e-8250b1264d10"
      },
      "execution_count": 29,
      "outputs": [
        {
          "output_type": "execute_result",
          "data": {
            "text/plain": [
              "torch.float64"
            ]
          },
          "metadata": {},
          "execution_count": 29
        }
      ]
    },
    {
      "cell_type": "markdown",
      "source": [
        "###Numpy和Tensor不共享内存"
      ],
      "metadata": {
        "id": "2sxKIbgGFOOU"
      }
    },
    {
      "cell_type": "code",
      "source": [
        "#改变数组的值，张量的值不变\n",
        "array = array + 1\n",
        "array,tensor"
      ],
      "metadata": {
        "colab": {
          "base_uri": "https://localhost:8080/"
        },
        "id": "klPPHYGp9kAb",
        "outputId": "b9524126-5318-4b76-9754-a53d0cd43d35"
      },
      "execution_count": 30,
      "outputs": [
        {
          "output_type": "execute_result",
          "data": {
            "text/plain": [
              "(array([2., 3., 4., 5., 6., 7., 8.]),\n",
              " tensor([1., 2., 3., 4., 5., 6., 7.], dtype=torch.float64))"
            ]
          },
          "metadata": {},
          "execution_count": 30
        }
      ]
    },
    {
      "cell_type": "code",
      "source": [
        "#tensor转换为Numpy array\n",
        "tensor = torch.ones(7)\n",
        "numpy_tensor = tensor.numpy()\n",
        "tensor,numpy_tensor"
      ],
      "metadata": {
        "colab": {
          "base_uri": "https://localhost:8080/"
        },
        "id": "I98KmP58A_FL",
        "outputId": "d1a17c6d-82dd-4936-c93a-2ec47afaf4bc"
      },
      "execution_count": 31,
      "outputs": [
        {
          "output_type": "execute_result",
          "data": {
            "text/plain": [
              "(tensor([1., 1., 1., 1., 1., 1., 1.]),\n",
              " array([1., 1., 1., 1., 1., 1., 1.], dtype=float32))"
            ]
          },
          "metadata": {},
          "execution_count": 31
        }
      ]
    },
    {
      "cell_type": "code",
      "source": [
        "#改变数组的值，张量的值不变\n",
        "tensor = tensor + 1\n",
        "tensor,numpy_tensor"
      ],
      "metadata": {
        "colab": {
          "base_uri": "https://localhost:8080/"
        },
        "id": "pTEHnybIE7pb",
        "outputId": "afa610ad-3853-4e03-846e-ae2b7e02853b"
      },
      "execution_count": 32,
      "outputs": [
        {
          "output_type": "execute_result",
          "data": {
            "text/plain": [
              "(tensor([2., 2., 2., 2., 2., 2., 2.]),\n",
              " array([1., 1., 1., 1., 1., 1., 1.], dtype=float32))"
            ]
          },
          "metadata": {},
          "execution_count": 32
        }
      ]
    },
    {
      "cell_type": "markdown",
      "source": [
        "###Reproducbility(可重复性） 试图从随机数中取出随机数\n",
        "\n",
        "简而言之，怎么学习神经网络:\n",
        "\n",
        "  `从随机数开始-->张量运算-->更新随机数尝试让他们成为数据-->不断重复过程\n",
        "\n",
        "在神经网络中为了减少随机性，Pytorch引入了 随机种子 的概念。本质上来说，随机种子就像是给随机性加了“调味料”，让随机过程可控、可复现\n",
        "\n",
        "随机和伪随机\n",
        "\n"
      ],
      "metadata": {
        "id": "4nAsUU8-HfOL"
      }
    },
    {
      "cell_type": "code",
      "source": [
        "import torch\n",
        "\n",
        "#创建两个随机张量\n",
        "random_tensor_A = torch.rand(3,4)\n",
        "random_tensor_B = torch.rand(3,4)\n",
        "\n",
        "print(random_tensor_A)\n",
        "print(random_tensor_B)\n",
        "print(random_tensor_A == random_tensor_B)\n"
      ],
      "metadata": {
        "colab": {
          "base_uri": "https://localhost:8080/"
        },
        "id": "eo_t2R44LbPk",
        "outputId": "46029b13-cbbf-41c8-ea0b-61b844a663fd"
      },
      "execution_count": 33,
      "outputs": [
        {
          "output_type": "stream",
          "name": "stdout",
          "text": [
            "tensor([[0.8896, 0.5959, 0.0261, 0.8193],\n",
            "        [0.5498, 0.7028, 0.7044, 0.4936],\n",
            "        [0.3497, 0.3806, 0.5944, 0.6460]])\n",
            "tensor([[0.5490, 0.9988, 0.8542, 0.5850],\n",
            "        [0.9222, 0.1326, 0.2993, 0.3148],\n",
            "        [0.2204, 0.5587, 0.0658, 0.8287]])\n",
            "tensor([[False, False, False, False],\n",
            "        [False, False, False, False],\n",
            "        [False, False, False, False]])\n"
          ]
        }
      ]
    },
    {
      "cell_type": "code",
      "source": [
        "#创建一些随机但可重复性的张量\n",
        "import torch\n",
        "\n",
        "#设置随机种子\n",
        "RANDOM_SEED = 32\n",
        "\n",
        "torch.manual_seed(RANDOM_SEED)\n",
        "random_tensor_C = torch.rand(3,4)\n",
        "torch.manual_seed(RANDOM_SEED)\n",
        "random_tensor_D = torch.rand(3,4)\n",
        "\n",
        "print(random_tensor_C)\n",
        "print(random_tensor_D)\n",
        "print(random_tensor_C == random_tensor_D)\n"
      ],
      "metadata": {
        "colab": {
          "base_uri": "https://localhost:8080/"
        },
        "id": "KkZmz-AkOkY6",
        "outputId": "dde24277-94f9-4481-93b9-5dad0fa89e76"
      },
      "execution_count": 34,
      "outputs": [
        {
          "output_type": "stream",
          "name": "stdout",
          "text": [
            "tensor([[0.8757, 0.2721, 0.4141, 0.7857],\n",
            "        [0.1130, 0.5793, 0.6481, 0.0229],\n",
            "        [0.5874, 0.3254, 0.9485, 0.5219]])\n",
            "tensor([[0.8757, 0.2721, 0.4141, 0.7857],\n",
            "        [0.1130, 0.5793, 0.6481, 0.0229],\n",
            "        [0.5874, 0.3254, 0.9485, 0.5219]])\n",
            "tensor([[True, True, True, True],\n",
            "        [True, True, True, True],\n",
            "        [True, True, True, True]])\n"
          ]
        }
      ]
    },
    {
      "cell_type": "markdown",
      "source": [
        "###Random tensor\n",
        " **why random tensor ?**\n",
        "\n",
        "\n",
        "随机张量很重要，因为许多神经网络的学习方式是从充满随机数的张量开始，然后调整这些随机数以更好地表示数据。\n",
        "\n",
        "`从随机数开始---》看数据 ---》更新随机数---》看数据 ---》更新随机数`\n",
        "\n"
      ],
      "metadata": {
        "id": "Mc9IYOGL_Or9"
      }
    },
    {
      "cell_type": "code",
      "source": [
        "#创建一个大小为（10,10）的随机张量\n",
        "random_tensor = torch.rand(1,10,10)\n",
        "random_tensor"
      ],
      "metadata": {
        "colab": {
          "base_uri": "https://localhost:8080/"
        },
        "id": "BW3Z3SuvCksF",
        "outputId": "fbf7f66c-1595-4774-e6ea-06c000d2306e"
      },
      "execution_count": 35,
      "outputs": [
        {
          "output_type": "execute_result",
          "data": {
            "text/plain": [
              "tensor([[[0.8782, 0.7254, 0.6929, 0.0259, 0.9319, 0.0913, 0.7177, 0.7271,\n",
              "          0.4967, 0.9308],\n",
              "         [0.3677, 0.2049, 0.6646, 0.3886, 0.0787, 0.1447, 0.1809, 0.6440,\n",
              "          0.1504, 0.7280],\n",
              "         [0.8867, 0.2971, 0.7828, 0.5105, 0.8187, 0.4370, 0.1878, 0.8781,\n",
              "          0.1925, 0.6161],\n",
              "         [0.7849, 0.1381, 0.0455, 0.7794, 0.0059, 0.1268, 0.7167, 0.3324,\n",
              "          0.8529, 0.3920],\n",
              "         [0.5805, 0.2238, 0.5989, 0.0382, 0.1198, 0.1159, 0.5589, 0.4112,\n",
              "          0.9977, 0.5187],\n",
              "         [0.9310, 0.2028, 0.6240, 0.4142, 0.9531, 0.6668, 0.5360, 0.1804,\n",
              "          0.0755, 0.3405],\n",
              "         [0.7576, 0.2296, 0.2900, 0.0625, 0.9716, 0.9518, 0.2123, 0.5161,\n",
              "          0.4722, 0.5887],\n",
              "         [0.1751, 0.1881, 0.4266, 0.1156, 0.5557, 0.2444, 0.1048, 0.4753,\n",
              "          0.2905, 0.7066],\n",
              "         [0.9065, 0.2047, 0.3438, 0.4117, 0.0127, 0.0150, 0.6994, 0.4675,\n",
              "          0.2444, 0.9778],\n",
              "         [0.0017, 0.9419, 0.0226, 0.2056, 0.7737, 0.3734, 0.3499, 0.1588,\n",
              "          0.6527, 0.9031]]])"
            ]
          },
          "metadata": {},
          "execution_count": 35
        }
      ]
    },
    {
      "cell_type": "code",
      "source": [
        "random_tensor.ndim"
      ],
      "metadata": {
        "colab": {
          "base_uri": "https://localhost:8080/"
        },
        "id": "8QyglB1XC7fd",
        "outputId": "435fba68-85ea-4987-f8c4-39c831f78ea9"
      },
      "execution_count": 36,
      "outputs": [
        {
          "output_type": "execute_result",
          "data": {
            "text/plain": [
              "3"
            ]
          },
          "metadata": {},
          "execution_count": 36
        }
      ]
    },
    {
      "cell_type": "code",
      "source": [
        "random_tensor.shape"
      ],
      "metadata": {
        "colab": {
          "base_uri": "https://localhost:8080/"
        },
        "id": "TczKC66xDw3M",
        "outputId": "a611d96b-05e9-4164-cf78-953612a605df"
      },
      "execution_count": 37,
      "outputs": [
        {
          "output_type": "execute_result",
          "data": {
            "text/plain": [
              "torch.Size([1, 10, 10])"
            ]
          },
          "metadata": {},
          "execution_count": 37
        }
      ]
    },
    {
      "cell_type": "code",
      "source": [
        "#创建一个和图像张量相似的随机张量\n",
        "random_image_size_tensor = torch.rand(3,224,224) #第一个参数为颜色通道数，其后的两个参数为图片的高和宽\n",
        "random_image_size_tensor.ndim, random_image_size_tensor.shape"
      ],
      "metadata": {
        "colab": {
          "base_uri": "https://localhost:8080/"
        },
        "id": "z_T63RKfHnvM",
        "outputId": "d505abf5-d381-448b-da03-1c25ce60a8c1"
      },
      "execution_count": 38,
      "outputs": [
        {
          "output_type": "execute_result",
          "data": {
            "text/plain": [
              "(3, torch.Size([3, 224, 224]))"
            ]
          },
          "metadata": {},
          "execution_count": 38
        }
      ]
    },
    {
      "cell_type": "markdown",
      "source": [
        "###Zeros and Ones"
      ],
      "metadata": {
        "id": "6kq6sPVh_Pn8"
      }
    },
    {
      "cell_type": "code",
      "source": [
        "#创建一个全0的张量\n",
        "zeros = torch.zeros(size=(3,3))\n",
        "zeros"
      ],
      "metadata": {
        "colab": {
          "base_uri": "https://localhost:8080/"
        },
        "id": "dBE1NFNwJVzb",
        "outputId": "4a155056-a15f-45e3-9a43-45ad876806f5"
      },
      "execution_count": 39,
      "outputs": [
        {
          "output_type": "execute_result",
          "data": {
            "text/plain": [
              "tensor([[0., 0., 0.],\n",
              "        [0., 0., 0.],\n",
              "        [0., 0., 0.]])"
            ]
          },
          "metadata": {},
          "execution_count": 39
        }
      ]
    },
    {
      "cell_type": "code",
      "source": [
        "#创建一个全1的张量\n",
        "ones = torch.ones(size=(7,7))\n",
        "ones"
      ],
      "metadata": {
        "colab": {
          "base_uri": "https://localhost:8080/"
        },
        "id": "9aQCDAMlJxAT",
        "outputId": "970be552-0161-4ac1-ab96-201f11900657"
      },
      "execution_count": 40,
      "outputs": [
        {
          "output_type": "execute_result",
          "data": {
            "text/plain": [
              "tensor([[1., 1., 1., 1., 1., 1., 1.],\n",
              "        [1., 1., 1., 1., 1., 1., 1.],\n",
              "        [1., 1., 1., 1., 1., 1., 1.],\n",
              "        [1., 1., 1., 1., 1., 1., 1.],\n",
              "        [1., 1., 1., 1., 1., 1., 1.],\n",
              "        [1., 1., 1., 1., 1., 1., 1.],\n",
              "        [1., 1., 1., 1., 1., 1., 1.]])"
            ]
          },
          "metadata": {},
          "execution_count": 40
        }
      ]
    },
    {
      "cell_type": "code",
      "source": [
        "ones.dtype, random_tensor.dtype"
      ],
      "metadata": {
        "colab": {
          "base_uri": "https://localhost:8080/"
        },
        "id": "h_HEmJq8KY5b",
        "outputId": "b81d06e8-720b-4860-be2a-7a5af61a45a2"
      },
      "execution_count": 41,
      "outputs": [
        {
          "output_type": "execute_result",
          "data": {
            "text/plain": [
              "(torch.float32, torch.float32)"
            ]
          },
          "metadata": {},
          "execution_count": 41
        }
      ]
    },
    {
      "cell_type": "markdown",
      "source": [
        "###在GPU上运行张量和PyTorch对象"
      ],
      "metadata": {
        "id": "6Sx2yMSSXTya"
      }
    },
    {
      "cell_type": "code",
      "source": [
        "!nvidia-smi"
      ],
      "metadata": {
        "colab": {
          "base_uri": "https://localhost:8080/"
        },
        "id": "3YqYL_H6V2lg",
        "outputId": "8127553a-e694-49dd-cf2b-2a7c29030869"
      },
      "execution_count": 42,
      "outputs": [
        {
          "output_type": "stream",
          "name": "stdout",
          "text": [
            "/bin/bash: line 1: nvidia-smi: command not found\n"
          ]
        }
      ]
    },
    {
      "cell_type": "code",
      "source": [
        "#使用PyTorch检查GPU访问权限\n",
        "\n",
        "import torch\n",
        "torch.cuda.is_available()\n"
      ],
      "metadata": {
        "colab": {
          "base_uri": "https://localhost:8080/"
        },
        "id": "FYHqwGfFXhOQ",
        "outputId": "4bf44741-ebed-4e1d-f0a1-f3c93a73909f"
      },
      "execution_count": 43,
      "outputs": [
        {
          "output_type": "execute_result",
          "data": {
            "text/plain": [
              "False"
            ]
          },
          "metadata": {},
          "execution_count": 43
        }
      ]
    },
    {
      "cell_type": "markdown",
      "source": [
        "###设置设备无关代码 (Device-agnostic code)\n",
        "\n",
        "由于 PyTorch 的结构，您可能需要明确编写与设备无关（CPU 或 GPU）的代码；一个例子可能是创建一个新的张量作为循环神经网络的初始隐藏状态。\n",
        "\n",
        "第一步是确定是否应该使用 GPU"
      ],
      "metadata": {
        "id": "oQuWVMRxbkPR"
      }
    },
    {
      "cell_type": "code",
      "source": [
        "#设置设备无关代码 (Device-agnostic code)\n",
        "#device = torch.accelerator.current_accelerator().type if torch.cuda.is_availiable() else \"cpu\"\n",
        "device = \"cuda\" if torch.cuda.is_available() else \"cpu\"\n",
        "device"
      ],
      "metadata": {
        "id": "tuSmCvpMblLa",
        "colab": {
          "base_uri": "https://localhost:8080/",
          "height": 35
        },
        "outputId": "863acf26-1648-4aff-9134-04ed281043fc"
      },
      "execution_count": 44,
      "outputs": [
        {
          "output_type": "execute_result",
          "data": {
            "text/plain": [
              "'cpu'"
            ],
            "application/vnd.google.colaboratory.intrinsic+json": {
              "type": "string"
            }
          },
          "metadata": {},
          "execution_count": 44
        }
      ]
    },
    {
      "cell_type": "code",
      "source": [
        "#统计设备数量\n",
        "torch.cuda.device_count()"
      ],
      "metadata": {
        "colab": {
          "base_uri": "https://localhost:8080/"
        },
        "id": "G-GLADRuZzSB",
        "outputId": "c2c4d892-47f2-474c-e322-63b003095a03"
      },
      "execution_count": 45,
      "outputs": [
        {
          "output_type": "execute_result",
          "data": {
            "text/plain": [
              "0"
            ]
          },
          "metadata": {},
          "execution_count": 45
        }
      ]
    },
    {
      "cell_type": "markdown",
      "source": [
        "###将Tensor放到GPU上"
      ],
      "metadata": {
        "id": "2QlczuSkfR_w"
      }
    },
    {
      "cell_type": "code",
      "source": [
        "#创建一个张量（默认是cpu）\n",
        "tensor = torch.tensor([1,2,3])\n",
        "\n",
        "#Tensor not on GPU\n",
        "print(tensor, tensor.device)"
      ],
      "metadata": {
        "colab": {
          "base_uri": "https://localhost:8080/"
        },
        "id": "kwGhtTpRdAIB",
        "outputId": "737d9e7f-a4ba-4a26-e2e1-f626ef43f7cb"
      },
      "execution_count": 46,
      "outputs": [
        {
          "output_type": "stream",
          "name": "stdout",
          "text": [
            "tensor([1, 2, 3]) cpu\n"
          ]
        }
      ]
    },
    {
      "cell_type": "code",
      "source": [
        "#将tensor移动到GPU（if avaliable）\n",
        "tensor_on_gpu = tensor.to(device)\n",
        "tensor_on_gpu"
      ],
      "metadata": {
        "colab": {
          "base_uri": "https://localhost:8080/"
        },
        "id": "hyVS5kYgfu6Y",
        "outputId": "16aba95e-8fce-43e7-84b1-1568fe984c9a"
      },
      "execution_count": 47,
      "outputs": [
        {
          "output_type": "execute_result",
          "data": {
            "text/plain": [
              "tensor([1, 2, 3])"
            ]
          },
          "metadata": {},
          "execution_count": 47
        }
      ]
    },
    {
      "cell_type": "code",
      "source": [
        "#将tensor移回CPU\n",
        "\n",
        "#如果tensor在GPU上，不能将其装换为NumPy\n",
        "tensor_on_gpu.numpy()"
      ],
      "metadata": {
        "colab": {
          "base_uri": "https://localhost:8080/"
        },
        "id": "UDaVr19xgccR",
        "outputId": "03cd9b5c-dd12-456e-88ae-b0631ccc481d"
      },
      "execution_count": 48,
      "outputs": [
        {
          "output_type": "execute_result",
          "data": {
            "text/plain": [
              "array([1, 2, 3])"
            ]
          },
          "metadata": {},
          "execution_count": 48
        }
      ]
    },
    {
      "cell_type": "code",
      "source": [
        "#修复GPU tensor 与Numpy的问题，我们首先设置tensor到CPU上\n",
        "\n",
        "tensor_back_on_cpu=tensor_on_gpu.cpu().numpy()\n",
        "tensor_back_on_cpu"
      ],
      "metadata": {
        "colab": {
          "base_uri": "https://localhost:8080/"
        },
        "id": "krPCJS2vmRuh",
        "outputId": "77002798-6cb8-478b-ad50-e139a35a6592"
      },
      "execution_count": 49,
      "outputs": [
        {
          "output_type": "execute_result",
          "data": {
            "text/plain": [
              "array([1, 2, 3])"
            ]
          },
          "metadata": {},
          "execution_count": 49
        }
      ]
    },
    {
      "cell_type": "code",
      "source": [
        "tensor_on_gpu"
      ],
      "metadata": {
        "colab": {
          "base_uri": "https://localhost:8080/"
        },
        "id": "VNm39N59nKMw",
        "outputId": "2a938825-854e-41b1-9cbb-39b3ae6d6641"
      },
      "execution_count": 50,
      "outputs": [
        {
          "output_type": "execute_result",
          "data": {
            "text/plain": [
              "tensor([1, 2, 3])"
            ]
          },
          "metadata": {},
          "execution_count": 50
        }
      ]
    },
    {
      "cell_type": "markdown",
      "source": [
        "##Exercises"
      ],
      "metadata": {
        "id": "m6n5_efasCx4"
      }
    },
    {
      "cell_type": "code",
      "source": [
        "#2 创建一个形状为（7,7）的随机张量\n",
        "#rand--均匀分布   randn --- 标准正态分布\n",
        "random_tensor_2 = torch.rand(7,7)\n",
        "random_tensor"
      ],
      "metadata": {
        "colab": {
          "base_uri": "https://localhost:8080/"
        },
        "id": "qOaHuy7hsJAA",
        "outputId": "987624a9-cded-48fc-ec9e-2472028078c4"
      },
      "execution_count": 51,
      "outputs": [
        {
          "output_type": "execute_result",
          "data": {
            "text/plain": [
              "tensor([[[0.8782, 0.7254, 0.6929, 0.0259, 0.9319, 0.0913, 0.7177, 0.7271,\n",
              "          0.4967, 0.9308],\n",
              "         [0.3677, 0.2049, 0.6646, 0.3886, 0.0787, 0.1447, 0.1809, 0.6440,\n",
              "          0.1504, 0.7280],\n",
              "         [0.8867, 0.2971, 0.7828, 0.5105, 0.8187, 0.4370, 0.1878, 0.8781,\n",
              "          0.1925, 0.6161],\n",
              "         [0.7849, 0.1381, 0.0455, 0.7794, 0.0059, 0.1268, 0.7167, 0.3324,\n",
              "          0.8529, 0.3920],\n",
              "         [0.5805, 0.2238, 0.5989, 0.0382, 0.1198, 0.1159, 0.5589, 0.4112,\n",
              "          0.9977, 0.5187],\n",
              "         [0.9310, 0.2028, 0.6240, 0.4142, 0.9531, 0.6668, 0.5360, 0.1804,\n",
              "          0.0755, 0.3405],\n",
              "         [0.7576, 0.2296, 0.2900, 0.0625, 0.9716, 0.9518, 0.2123, 0.5161,\n",
              "          0.4722, 0.5887],\n",
              "         [0.1751, 0.1881, 0.4266, 0.1156, 0.5557, 0.2444, 0.1048, 0.4753,\n",
              "          0.2905, 0.7066],\n",
              "         [0.9065, 0.2047, 0.3438, 0.4117, 0.0127, 0.0150, 0.6994, 0.4675,\n",
              "          0.2444, 0.9778],\n",
              "         [0.0017, 0.9419, 0.0226, 0.2056, 0.7737, 0.3734, 0.3499, 0.1588,\n",
              "          0.6527, 0.9031]]])"
            ]
          },
          "metadata": {},
          "execution_count": 51
        }
      ]
    },
    {
      "cell_type": "code",
      "source": [
        "#3 对来自2的张量与另一个具有形状的随机张量执行矩阵乘法（1,7）\n",
        "random_tensor_3 = torch.rand(1,7)\n",
        "mat_mul_1 = torch.matmul(random_tensor_2,random_tensor_3.T)\n",
        "mat_mul_2 = random_tensor_2 @ random_tensor_3.T\n",
        "mat_mul_3 = random_tensor_2.matmul(random_tensor_3.T)\n",
        "\n",
        "print(mat_mul_1)\n",
        "print(mat_mul_2)\n",
        "print(mat_mul_3)\n"
      ],
      "metadata": {
        "id": "xH32XZ74y8DA",
        "colab": {
          "base_uri": "https://localhost:8080/"
        },
        "outputId": "adfecc22-c638-4932-89df-4344628279da"
      },
      "execution_count": 52,
      "outputs": [
        {
          "output_type": "stream",
          "name": "stdout",
          "text": [
            "tensor([[1.8538],\n",
            "        [1.6842],\n",
            "        [1.3328],\n",
            "        [2.3680],\n",
            "        [2.0185],\n",
            "        [2.1623],\n",
            "        [2.3510]])\n",
            "tensor([[1.8538],\n",
            "        [1.6842],\n",
            "        [1.3328],\n",
            "        [2.3680],\n",
            "        [2.0185],\n",
            "        [2.1623],\n",
            "        [2.3510]])\n",
            "tensor([[1.8538],\n",
            "        [1.6842],\n",
            "        [1.3328],\n",
            "        [2.3680],\n",
            "        [2.0185],\n",
            "        [2.1623],\n",
            "        [2.3510]])\n"
          ]
        }
      ]
    },
    {
      "cell_type": "code",
      "source": [
        "#4 将随机数种子设置为0并重复练习2和3\n",
        "RANDOM_SEED = 0\n",
        "\n",
        "torch.manual_seed(RANDOM_SEED)\n",
        "random_tensor_2 = torch.rand(7,7)\n",
        "torch.manual_seed(RANDOM_SEED)\n",
        "random_tensor_3 = torch.rand(1,7)\n",
        "\n",
        "print(random_tensor_2)\n",
        "print(random_tensor_3)\n",
        "\n",
        "mat_mul_1 = torch.matmul(random_tensor_2,random_tensor_3.T)\n",
        "#mat_mul_2 = random_tensor_2 @ random_tensor_3.T\n",
        "#mat_mul_3 = random_tensor_2.matmul(random_tensor_3.T)\n",
        "\n",
        "print(mat_mul_1)"
      ],
      "metadata": {
        "colab": {
          "base_uri": "https://localhost:8080/"
        },
        "id": "_WmgjuSTy714",
        "outputId": "a5babc25-931c-4ed3-9c0e-d2cbc4b509fb"
      },
      "execution_count": 53,
      "outputs": [
        {
          "output_type": "stream",
          "name": "stdout",
          "text": [
            "tensor([[0.4963, 0.7682, 0.0885, 0.1320, 0.3074, 0.6341, 0.4901],\n",
            "        [0.8964, 0.4556, 0.6323, 0.3489, 0.4017, 0.0223, 0.1689],\n",
            "        [0.2939, 0.5185, 0.6977, 0.8000, 0.1610, 0.2823, 0.6816],\n",
            "        [0.9152, 0.3971, 0.8742, 0.4194, 0.5529, 0.9527, 0.0362],\n",
            "        [0.1852, 0.3734, 0.3051, 0.9320, 0.1759, 0.2698, 0.1507],\n",
            "        [0.0317, 0.2081, 0.9298, 0.7231, 0.7423, 0.5263, 0.2437],\n",
            "        [0.5846, 0.0332, 0.1387, 0.2422, 0.8155, 0.7932, 0.2783]])\n",
            "tensor([[0.4963, 0.7682, 0.0885, 0.1320, 0.3074, 0.6341, 0.4901]])\n",
            "tensor([[1.5985],\n",
            "        [1.1173],\n",
            "        [1.2741],\n",
            "        [1.6838],\n",
            "        [0.8279],\n",
            "        [1.0347],\n",
            "        [1.2498]])\n"
          ]
        }
      ]
    },
    {
      "cell_type": "code",
      "source": [
        "#5 说到随机种子，我们了解了如何使用torch.manual_seed()来设置它，但有没有GPU等效的函数呢？\n",
        "#（提示：你需要查看torch.cuda这方面的文档）。如果有，请将GPU随机种子设置为1234。\n",
        "\n",
        "#GPU上存在等效函数 为 manual_seed\n",
        "RANDOM_SEED = 1234\n",
        "\n",
        "torch.cuda.manual_seed(RANDOM_SEED)\n",
        "random_tensor_2 = torch.rand(7,7)\n",
        "torch.cuda.manual_seed(RANDOM_SEED)\n",
        "random_tensor_3 = torch.rand(1,7)\n",
        "\n",
        "print(random_tensor_2)\n",
        "print(random_tensor_3)\n",
        "\n",
        "mat_mul_1 = torch.matmul(random_tensor_2,random_tensor_3.T)\n",
        "#mat_mul_2 = random_tensor_2 @ random_tensor_3.T\n",
        "#mat_mul_3 = random_tensor_2.matmul(random_tensor_3.T)\n",
        "\n",
        "print(mat_mul_1)"
      ],
      "metadata": {
        "colab": {
          "base_uri": "https://localhost:8080/"
        },
        "id": "X3ECwQ_hzPoA",
        "outputId": "5f5e2e4e-23ee-4b47-a4c7-9b5cfd36cc21"
      },
      "execution_count": 54,
      "outputs": [
        {
          "output_type": "stream",
          "name": "stdout",
          "text": [
            "tensor([[0.8964, 0.4556, 0.6323, 0.3489, 0.4017, 0.0223, 0.1689],\n",
            "        [0.2939, 0.5185, 0.6977, 0.8000, 0.1610, 0.2823, 0.6816],\n",
            "        [0.9152, 0.3971, 0.8742, 0.4194, 0.5529, 0.9527, 0.0362],\n",
            "        [0.1852, 0.3734, 0.3051, 0.9320, 0.1759, 0.2698, 0.1507],\n",
            "        [0.0317, 0.2081, 0.9298, 0.7231, 0.7423, 0.5263, 0.2437],\n",
            "        [0.5846, 0.0332, 0.1387, 0.2422, 0.8155, 0.7932, 0.2783],\n",
            "        [0.4820, 0.8198, 0.9971, 0.6984, 0.5675, 0.8352, 0.2056]])\n",
            "tensor([[0.5932, 0.1123, 0.1535, 0.2417, 0.7262, 0.7011, 0.2038]])\n",
            "tensor([[1.1061],\n",
            "        [0.9868],\n",
            "        [1.8999],\n",
            "        [0.7716],\n",
            "        [1.3174],\n",
            "        [1.6353],\n",
            "        [1.7395]])\n"
          ]
        }
      ]
    },
    {
      "cell_type": "code",
      "source": [
        "#6 创建两个形状为(2,3)的随机张量，并将它们发送到GPU（您需要访问GPU）。--to\n",
        "#torch.manual_seed(1234)创建张量时设置（这不一定是 GPU 随机种子）。\n",
        "\n",
        "random_tensor_1 = torch.rand(2,3)\n",
        "random_tensor_2 = torch.rand(2,3)\n",
        "\n",
        "#设置设备无关代码 (Device-agnostic code)\n",
        "device = \"cuda\" if torch.cuda.is_available() else \"cpu\"\n",
        "\n",
        "random_tensor_1 = random_tensor_1.to(device)\n",
        "random_tensor_2 = random_tensor_2.to(device)\n",
        "\n",
        "print(random_tensor_1)\n",
        "print(random_tensor_2)"
      ],
      "metadata": {
        "colab": {
          "base_uri": "https://localhost:8080/"
        },
        "id": "zy1CLZr65MvA",
        "outputId": "918804c8-f28b-49f3-be27-05974e798616"
      },
      "execution_count": 55,
      "outputs": [
        {
          "output_type": "stream",
          "name": "stdout",
          "text": [
            "tensor([[0.6511, 0.7745, 0.4369],\n",
            "        [0.5191, 0.6159, 0.8102]])\n",
            "tensor([[0.9801, 0.1147, 0.3168],\n",
            "        [0.6965, 0.9143, 0.9351]])\n"
          ]
        }
      ]
    },
    {
      "cell_type": "code",
      "source": [
        "#7 中创建的张量执行矩阵乘法（同样，您可能需要调整其中一个张量的形状）。\n",
        "mat_mul_4 = random_tensor_1.matmul(random_tensor_2.T)\n",
        "print(mat_mul_4)"
      ],
      "metadata": {
        "colab": {
          "base_uri": "https://localhost:8080/"
        },
        "id": "0YSdK8a466SA",
        "outputId": "9754cc37-99d8-442e-b180-90343790caad"
      },
      "execution_count": 56,
      "outputs": [
        {
          "output_type": "stream",
          "name": "stdout",
          "text": [
            "tensor([[0.8653, 1.5701],\n",
            "        [0.8360, 1.6822]])\n"
          ]
        }
      ]
    },
    {
      "cell_type": "code",
      "source": [
        "#8 找出 7 的输出的最大值和最小值。\n",
        "max = torch.max(mat_mul_4)\n",
        "min = torch.min(mat_mul_4)\n",
        "print(f\"max:{max}\")\n",
        "print(f\"min:{min}\")"
      ],
      "metadata": {
        "colab": {
          "base_uri": "https://localhost:8080/"
        },
        "id": "3F-ZSplL7U7A",
        "outputId": "09c10112-f24f-4652-9142-0812d0d990fb"
      },
      "execution_count": 57,
      "outputs": [
        {
          "output_type": "stream",
          "name": "stdout",
          "text": [
            "max:1.6822175979614258\n",
            "min:0.8360297679901123\n"
          ]
        }
      ]
    },
    {
      "cell_type": "code",
      "source": [
        "#9 找出7的输出的最大和最小索引值。\n",
        "max_index = torch.argmax(mat_mul_4)\n",
        "min_index = torch.argmin(mat_mul_4)\n",
        "print(f\"max_index:{max_index}\")\n",
        "print(f\"min_index:{min_index}\")"
      ],
      "metadata": {
        "colab": {
          "base_uri": "https://localhost:8080/"
        },
        "id": "XBDAI01h73dg",
        "outputId": "f4d26f71-bb8d-44ae-dfb5-f1a59252d49f"
      },
      "execution_count": 58,
      "outputs": [
        {
          "output_type": "stream",
          "name": "stdout",
          "text": [
            "max_index:3\n",
            "min_index:2\n"
          ]
        }
      ]
    },
    {
      "cell_type": "code",
      "source": [
        "#10 创建一个形状为(1, 1, 1, 10)的随机张量，然后创建一个新的张量，1移除所有维度，\n",
        "#得到一个形状为(10)的张量。创建时将种子设置为7，并打印出第一个张量及其形状，\n",
        "#以及第二个张量及其形状。\n",
        "import torch\n",
        "\n",
        "RANDOM_SEED = 7\n",
        "\n",
        "torch.manual_seed(RANDOM_SEED)\n",
        "random_tensor_4 = torch.rand(1,1,1,10)\n",
        "torch.manual_seed(RANDOM_SEED)\n",
        "random_tensor_5 = torch.rand(1,1,1,10)\n",
        "random_tensor_5_queeze = torch.squeeze(random_tensor_5)\n",
        "\n",
        "print(random_tensor_4,random_tensor_4.shape)\n",
        "print(random_tensor_5,random_tensor_5.shape)\n",
        "print(random_tensor_5_queeze,random_tensor_5_queeze.shape)\n",
        "\n",
        "\n"
      ],
      "metadata": {
        "colab": {
          "base_uri": "https://localhost:8080/"
        },
        "id": "23zKbahp8E0n",
        "outputId": "49339608-63be-4e8b-c399-c5181bc009da"
      },
      "execution_count": 59,
      "outputs": [
        {
          "output_type": "stream",
          "name": "stdout",
          "text": [
            "tensor([[[[0.5349, 0.1988, 0.6592, 0.6569, 0.2328, 0.4251, 0.2071, 0.6297,\n",
            "           0.3653, 0.8513]]]]) torch.Size([1, 1, 1, 10])\n",
            "tensor([[[[0.5349, 0.1988, 0.6592, 0.6569, 0.2328, 0.4251, 0.2071, 0.6297,\n",
            "           0.3653, 0.8513]]]]) torch.Size([1, 1, 1, 10])\n",
            "tensor([0.5349, 0.1988, 0.6592, 0.6569, 0.2328, 0.4251, 0.2071, 0.6297, 0.3653,\n",
            "        0.8513]) torch.Size([10])\n"
          ]
        }
      ]
    },
    {
      "cell_type": "markdown",
      "source": [
        "## Creating a range of tensors and tensors-like"
      ],
      "metadata": {
        "id": "30lQZ7DGLFyj"
      }
    },
    {
      "cell_type": "code",
      "source": [
        "#使用torch.range(start,end,step)\n",
        "one_to_nine = torch.arange(1,10)\n",
        "one_to_nine"
      ],
      "metadata": {
        "colab": {
          "base_uri": "https://localhost:8080/"
        },
        "id": "ksgYO-4yLe6S",
        "outputId": "e496d07c-4319-4da6-f5f7-1dd501555ef5"
      },
      "execution_count": 60,
      "outputs": [
        {
          "output_type": "execute_result",
          "data": {
            "text/plain": [
              "tensor([1, 2, 3, 4, 5, 6, 7, 8, 9])"
            ]
          },
          "metadata": {},
          "execution_count": 60
        }
      ]
    },
    {
      "cell_type": "code",
      "source": [
        "#创建tensors like\n",
        "ten_zeros = torch.zeros_like(input=one_to_nine)\n",
        "ten_zeros"
      ],
      "metadata": {
        "colab": {
          "base_uri": "https://localhost:8080/"
        },
        "id": "dLnG9yAIMiuK",
        "outputId": "b47546d3-b162-4387-a2f3-995c5379bf88"
      },
      "execution_count": 61,
      "outputs": [
        {
          "output_type": "execute_result",
          "data": {
            "text/plain": [
              "tensor([0, 0, 0, 0, 0, 0, 0, 0, 0])"
            ]
          },
          "metadata": {},
          "execution_count": 61
        }
      ]
    },
    {
      "cell_type": "code",
      "source": [
        "if torch.accelerator.is_available():\n",
        "  tensor = tensor.to(torch.accelerator.current_accelerator())"
      ],
      "metadata": {
        "id": "VuvqMbz1z2VS"
      },
      "execution_count": 62,
      "outputs": []
    },
    {
      "cell_type": "code",
      "source": [
        "t1 = torch.cat([ten_zeros,ten_zeros,ten_zeros],dim=0)\n",
        "t1"
      ],
      "metadata": {
        "colab": {
          "base_uri": "https://localhost:8080/"
        },
        "id": "03h1ltNw1qN6",
        "outputId": "5d3ea18b-9de1-472d-8116-631564232a8e"
      },
      "execution_count": 63,
      "outputs": [
        {
          "output_type": "execute_result",
          "data": {
            "text/plain": [
              "tensor([0, 0, 0, 0, 0, 0, 0, 0, 0, 0, 0, 0, 0, 0, 0, 0, 0, 0, 0, 0, 0, 0, 0, 0,\n",
              "        0, 0, 0])"
            ]
          },
          "metadata": {},
          "execution_count": 63
        }
      ]
    },
    {
      "cell_type": "code",
      "source": [
        "#算术运算  矩阵乘法\n",
        "tensor = torch.rand(1,2,3)\n",
        "y1 = tensor @ tensor.mT\n",
        "y2 = tensor.matmul(tensor.mT)\n",
        "\n",
        "y3 = torch.rand_like(y1)\n",
        "torch.matmul(tensor, tensor.mT, out=y3)"
      ],
      "metadata": {
        "colab": {
          "base_uri": "https://localhost:8080/"
        },
        "id": "ivts2QBw4go6",
        "outputId": "5b7ec6b0-695f-4a74-d00c-3ad92a40501e"
      },
      "execution_count": 64,
      "outputs": [
        {
          "output_type": "execute_result",
          "data": {
            "text/plain": [
              "tensor([[[1.1167, 0.5247],\n",
              "         [0.5247, 0.3698]]])"
            ]
          },
          "metadata": {},
          "execution_count": 64
        }
      ]
    },
    {
      "cell_type": "code",
      "source": [
        "#逐元素乘\n",
        "z1 = tensor * tensor\n",
        "z2 = tensor.mul(tensor)\n",
        "\n",
        "z3 = torch.rand_like(tensor)\n",
        "torch.mul(tensor, tensor, out=z3)"
      ],
      "metadata": {
        "colab": {
          "base_uri": "https://localhost:8080/"
        },
        "id": "GxJSklRVGFr2",
        "outputId": "4adfd319-2f3f-4720-c946-b18da70e18c9"
      },
      "execution_count": 65,
      "outputs": [
        {
          "output_type": "execute_result",
          "data": {
            "text/plain": [
              "tensor([[[0.7309, 0.3035, 0.0823],\n",
              "         [0.0426, 0.1981, 0.1291]]])"
            ]
          },
          "metadata": {},
          "execution_count": 65
        }
      ]
    },
    {
      "cell_type": "code",
      "source": [
        "agg = tensor.sum()\n",
        "agg_item = agg.item()\n",
        "print(agg_item, type(agg_item))"
      ],
      "metadata": {
        "colab": {
          "base_uri": "https://localhost:8080/"
        },
        "id": "iIpuJhOaHgf-",
        "outputId": "d50de540-1c68-4d9b-db5e-36d031f8f6b8"
      },
      "execution_count": 66,
      "outputs": [
        {
          "output_type": "stream",
          "name": "stdout",
          "text": [
            "2.7034127712249756 <class 'float'>\n"
          ]
        }
      ]
    },
    {
      "cell_type": "code",
      "source": [
        "print(f\"{tensor}/n\")\n",
        "tensor.add_(7)\n",
        "print(f\"{tensor}\")"
      ],
      "metadata": {
        "colab": {
          "base_uri": "https://localhost:8080/"
        },
        "id": "Wc4ExWzzI1xk",
        "outputId": "9d8b2a3f-9251-415e-8b7a-0fe402b358f0"
      },
      "execution_count": 67,
      "outputs": [
        {
          "output_type": "stream",
          "name": "stdout",
          "text": [
            "tensor([[[0.8549, 0.5509, 0.2868],\n",
            "         [0.2063, 0.4451, 0.3593]]])/n\n",
            "tensor([[[7.8549, 7.5509, 7.2868],\n",
            "         [7.2063, 7.4451, 7.3593]]])\n"
          ]
        }
      ]
    },
    {
      "cell_type": "markdown",
      "source": [
        "## Dataset and DataLoader\n",
        "\n"
      ],
      "metadata": {
        "id": "tQ7ei2aARsXx"
      }
    },
    {
      "cell_type": "markdown",
      "source": [
        "###  Dataset\n",
        "\n"
      ],
      "metadata": {
        "id": "FCBOfQ0Q9j0s"
      }
    },
    {
      "cell_type": "code",
      "source": [
        "import torch\n",
        "from torch.utils.data import Dataset\n",
        "from torchvision import datasets\n",
        "from torchvision.transforms import ToTensor\n",
        "import matplotlib.pyplot as plt\n",
        "\n",
        "training_data = datasets.FashionMNIST(\n",
        "    root=\"data\",\n",
        "    train=True,\n",
        "    download=True,\n",
        "    transform=ToTensor(),\n",
        ")\n",
        "test_data = datasets.FashionMNIST(\n",
        "    root=\"data\",\n",
        "    train=False,\n",
        "    download=True,\n",
        "    transform=ToTensor()\n",
        ")"
      ],
      "metadata": {
        "id": "gG1UoDvRRrcz",
        "colab": {
          "base_uri": "https://localhost:8080/"
        },
        "outputId": "962d5c68-5cd4-4d3e-8173-c14341e91c7d"
      },
      "execution_count": 68,
      "outputs": [
        {
          "output_type": "stream",
          "name": "stderr",
          "text": [
            "100%|██████████| 26.4M/26.4M [00:03<00:00, 8.49MB/s]\n",
            "100%|██████████| 29.5k/29.5k [00:00<00:00, 135kB/s]\n",
            "100%|██████████| 4.42M/4.42M [00:01<00:00, 2.52MB/s]\n",
            "100%|██████████| 5.15k/5.15k [00:00<00:00, 7.53MB/s]\n"
          ]
        }
      ]
    },
    {
      "cell_type": "code",
      "source": [
        "labels_map = {\n",
        "    0: \"T-Shirt\",\n",
        "    1: \"Trouser\",\n",
        "    2: \"Pullover\",\n",
        "    3: \"Dress\",\n",
        "    4: \"Coat\",\n",
        "    5: \"Sandal\",\n",
        "    6: \"Shirt\",\n",
        "    7: \"Sneaker\",\n",
        "    8: \"Bag\",\n",
        "    9: \"Ankle Boot\",\n",
        "}\n",
        "figure = plt.figure(figsize=(8,8))\n",
        "cols,rows = 3,3\n",
        "plt.suptitle(\"FashionMNIST Samples\", fontsize=16)\n",
        "for i in range(1,cols * rows + 1):\n",
        "  sample_idx = torch.randint(len(training_data),size=(1,)).item()\n",
        "  img, label = training_data[sample_idx]\n",
        "  figure.add_subplot(rows,cols,i)\n",
        "  plt.title(labels_map[label])\n",
        "  plt.axis(\"off\")\n",
        "  plt.imshow(img.squeeze(), cmap=\"gray\")\n",
        "plt.show()"
      ],
      "metadata": {
        "colab": {
          "base_uri": "https://localhost:8080/",
          "height": 0
        },
        "id": "TuA-qjiWa22f",
        "outputId": "552c829c-433a-43ee-f8ef-cf4b9d73c612"
      },
      "execution_count": 69,
      "outputs": [
        {
          "output_type": "display_data",
          "data": {
            "text/plain": [
              "<Figure size 800x800 with 9 Axes>"
            ],
            "image/png": "[encoded data removed]"
          },
          "metadata": {}
        }
      ]
    },
    {
      "cell_type": "code",
      "source": [
        "import os\n",
        "import pandas as pd\n",
        "from torchvision.io import decode_image\n",
        "\n",
        "class CustomImageDataset(Dataset):\n",
        "  def __init__(self, annotations_file, img_dir, transform = None, target_transform=None):\n",
        "    self.img_labels = pd.read_csv(annotations_file)\n",
        "    self.img_dir = img_dir\n",
        "    self.transform = transform\n",
        "    self.target_transform = target_transform\n",
        "\n",
        "  def __len__(self):\n",
        "    return len(self.img_labels)\n",
        "\n",
        "  def __getitem__(self,idx):\n",
        "    img_path = os.path.join(self.img_dir,self.img_labels.iloc[idx, 0])\n",
        "    image = decode_image(img_path)\n",
        "    label = self.img_labels.iloc[idx, 1]\n",
        "    if self.transform:\n",
        "      image = self.transform(image)\n",
        "    if self.target_transform:\n",
        "      label = self.target_transform(label)\n",
        "    return image, label\n",
        "\n"
      ],
      "metadata": {
        "id": "iL7rzeagvpcT"
      },
      "execution_count": 70,
      "outputs": []
    },
    {
      "cell_type": "markdown",
      "source": [
        "### DataLoader\n",
        "\n",
        "DataLoader 实现结果是 将获取到的样本合成批次（batch）\n",
        "过程是 从 数据集 中按照某种 采样策略 生成一系列 索引，然后根据这些索引从数据集中 取出样本，而后将这些样本合成批次\n",
        "\n",
        "索引 → 数据集 → 样本 → 批次"
      ],
      "metadata": {
        "id": "OxNJAKAq9w9x"
      }
    },
    {
      "cell_type": "markdown",
      "source": [
        "整个训练流程：\n",
        "Epoch → (批次 → (索引 → 数据集 → 样本 → 批次)) → 模型更新 → Epoch"
      ],
      "metadata": {
        "id": "EJWuWhc9Q7W3"
      }
    },
    {
      "cell_type": "markdown",
      "source": [
        "![deepseek_mermaid_20250712_296f3d.png](data:image/png;base64,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)"
      ],
      "metadata": {
        "id": "MjdHsSWBV0Q2"
      }
    },
    {
      "cell_type": "code",
      "source": [
        "from torch.utils.data import DataLoader\n",
        "\n",
        "train_dataloader = DataLoader(training_data, batch_size=64, shuffle=True)\n",
        "test_dataloader = DataLoader(test_data, batch_size=64,shuffle=True)\n",
        "\n",
        "#展示图片和标签\n",
        "#iter 创建迭代器 next 从迭代器中获取下一个批次的数据\n",
        "train_features, train_labels = next(iter(train_dataloader))\n",
        "print(f\"Feature batch shape:{train_features.size()}\")\n",
        "print(f\"Labels batch shape:{train_labels.shape}\")\n",
        "#从每一个批次中获取第一个样本\n",
        "img = train_features[0].squeeze()\n",
        "label = train_labels[0]\n",
        "plt.imshow(img, cmap=\"gray\")\n",
        "plt.show()\n",
        "print(f\"Label:{label}\")"
      ],
      "metadata": {
        "colab": {
          "base_uri": "https://localhost:8080/",
          "height": 0
        },
        "id": "BfnqJIMK95VM",
        "outputId": "14118add-068e-477e-daac-cf2cc3745788"
      },
      "execution_count": 71,
      "outputs": [
        {
          "output_type": "stream",
          "name": "stdout",
          "text": [
            "Feature batch shape:torch.Size([64, 1, 28, 28])\n",
            "Labels batch shape:torch.Size([64])\n"
          ]
        },
        {
          "output_type": "display_data",
          "data": {
            "text/plain": [
              "<Figure size 640x480 with 1 Axes>"
            ],
            "image/png": "[encoded data removed]"
          },
          "metadata": {}
        },
        {
          "output_type": "stream",
          "name": "stdout",
          "text": [
            "Label:6\n"
          ]
        }
      ]
    },
    {
      "cell_type": "markdown",
      "source": [
        "###涉及到专用名词 SGD（stochastic Gradient Descent）随机梯度下降\n",
        "\n",
        "基本定义：是一种用于优化目标函数的迭代算法\n",
        "\n",
        "核心思想和工作原理：\n",
        "\n",
        "    目标：找到使损失函数J（θ）最小化的模型参数θ（例如权重和偏置） ？疑问点？\n",
        "    梯度信息：算法利用损失函数关于参数 θ 的梯度∇J(θ)信息。梯度指向函数值增加最快的方向，因此其反方向指向下降最快的方向\n",
        "\n",
        "    随机的本质：SGD和标准GD的区别核心：\n",
        "      标准GD：在每次参数更新之前，计算整个训练数据集。这在大数据集上计算代价高昂\n",
        "      SGD：在每次参数更新时，仅基于单个随机选择的训练样本（或非常小的随机子集，Minibatch SGD）计算梯度估计值∇J(θ; x⁽ⁱ⁾, y⁽ⁱ⁾)\n",
        "\n",
        "  关键特点：计算高效 频繁更新 引入随机\n",
        "\n",
        "    优点：逃离局部极小值  在线学习\n",
        "    缺点：收敛路劲震荡 收敛速度变慢 对学习率敏感 不易并行化\n"
      ],
      "metadata": {
        "id": "gYd_ee6V1LtN"
      }
    },
    {
      "cell_type": "markdown",
      "source": [
        "##Transform"
      ],
      "metadata": {
        "id": "XqSA7B8DX0hv"
      }
    },
    {
      "cell_type": "code",
      "source": [
        "import torch\n",
        "from torchvision import datasets\n",
        "from torchvision.transforms import ToTensor, Lambda\n",
        "\n",
        "ds = datasets.FashionMNIST(\n",
        "    root=\"data\",\n",
        "    train=True,\n",
        "    download=True,\n",
        "    transform=ToTensor(),\n",
        "    target_transform=Lambda(lambda y: torch.zeros(10,dtype=torch.float).scatter_(0,torch.tensor(y),value=1))\n",
        ")"
      ],
      "metadata": {
        "id": "3GSIpfK-X4D4"
      },
      "execution_count": 72,
      "outputs": []
    },
    {
      "cell_type": "code",
      "source": [
        "import torch\n",
        "from torchvision.transforms import v2\n",
        "\n",
        "H,W = 32,32\n",
        "img = torch.randint(0,256,size=(3,H,W),dtype=torch.uint8)\n",
        "print(f\"init: {img}{img.shape}\")\n",
        "\n",
        "transforms = v2.Compose([\n",
        "    v2.RandomResizedCrop(size=(224,224),antialias=True),\n",
        "    v2.RandomHorizontalFlip(p=0.5),\n",
        "    v2.ToDtype(torch.float32,scale=True),\n",
        "    v2.Normalize(mean=[0.485,0.456,0.406],std=[0.229,0.224,0.225]),\n",
        "])\n",
        "img_1 = transforms(img)\n",
        "print(f\"tansforms: {img_1},{img.shape}\")"
      ],
      "metadata": {
        "id": "pHppgVr8gD8q",
        "colab": {
          "base_uri": "https://localhost:8080/"
        },
        "outputId": "3a15c3e2-cbd6-4a31-9bbf-aa88caf9b069"
      },
      "execution_count": 73,
      "outputs": [
        {
          "output_type": "stream",
          "name": "stdout",
          "text": [
            "init: tensor([[[112, 251, 189,  ...,  10, 233,  35],\n",
            "         [192,  61, 135,  ..., 130,  83, 178],\n",
            "         [146,  21, 119,  ..., 250,  54,  43],\n",
            "         ...,\n",
            "         [186,  51,   5,  ..., 139,  31, 228],\n",
            "         [ 33,   9, 221,  ..., 167, 124,  84],\n",
            "         [124, 130,  22,  ...,  21,  16, 174]],\n",
            "\n",
            "        [[219, 188, 210,  ..., 246, 209, 184],\n",
            "         [129, 238,  66,  ...,  97,  37,  54],\n",
            "         [ 88, 154, 212,  ..., 136, 145,  31],\n",
            "         ...,\n",
            "         [  1, 186,  19,  ...,  13,  90,  32],\n",
            "         [ 15, 235, 193,  ..., 106,  59, 210],\n",
            "         [155, 138, 159,  ..., 226,  55,  47]],\n",
            "\n",
            "        [[198,  69,  73,  ...,  44,  98, 117],\n",
            "         [ 30, 197,  46,  ..., 153,  20, 244],\n",
            "         [ 21, 213, 117,  ..., 210, 114,  24],\n",
            "         ...,\n",
            "         [ 41,  14,  52,  ...,  67, 104, 213],\n",
            "         [134,  61,  83,  ..., 176, 157, 174],\n",
            "         [ 56, 126, 152,  ...,  59, 161, 125]]], dtype=torch.uint8)torch.Size([3, 32, 32])\n",
            "tansforms: tensor([[[ 0.5536,  0.5536,  0.5536,  ..., -0.0629, -0.0629, -0.0629],\n",
            "         [ 0.5536,  0.5536,  0.5536,  ..., -0.0629, -0.0629, -0.0629],\n",
            "         [ 0.5536,  0.5536,  0.5536,  ..., -0.0629, -0.0629, -0.0629],\n",
            "         ...,\n",
            "         [-1.5699, -1.5699, -1.5699,  ...,  1.3413,  1.3413,  1.3413],\n",
            "         [-1.5699, -1.5699, -1.5699,  ...,  1.3413,  1.3413,  1.3413],\n",
            "         [-1.5699, -1.5699, -1.5699,  ...,  1.3413,  1.3413,  1.3413]],\n",
            "\n",
            "        [[ 0.4503,  0.4503,  0.4503,  ...,  0.2227,  0.2227,  0.2227],\n",
            "         [ 0.4503,  0.4503,  0.4503,  ...,  0.2227,  0.2227,  0.2227],\n",
            "         [ 0.4503,  0.4503,  0.4503,  ...,  0.2227,  0.2227,  0.2227],\n",
            "         ...,\n",
            "         [ 1.1506,  1.1506,  1.1506,  ..., -0.2150, -0.2150, -0.2150],\n",
            "         [ 1.1506,  1.1506,  1.1506,  ..., -0.2150, -0.2150, -0.2150],\n",
            "         [ 1.1506,  1.1506,  1.1506,  ..., -0.2150, -0.2150, -0.2150]],\n",
            "\n",
            "        [[-1.0898, -1.0898, -1.0898,  ...,  1.2805,  1.2805,  1.2805],\n",
            "         [-1.0898, -1.0898, -1.0898,  ...,  1.2805,  1.2805,  1.2805],\n",
            "         [-1.0898, -1.0898, -1.0898,  ...,  1.2805,  1.2805,  1.2805],\n",
            "         ...,\n",
            "         [-1.4559, -1.4559, -1.4559,  ...,  1.9951,  1.9951,  1.9951],\n",
            "         [-1.4559, -1.4559, -1.4559,  ...,  1.9951,  1.9951,  1.9951],\n",
            "         [-1.4559, -1.4559, -1.4559,  ...,  1.9951,  1.9951,  1.9951]]]),torch.Size([3, 32, 32])\n"
          ]
        }
      ]
    },
    {
      "cell_type": "markdown",
      "source": [
        "##构建神经网络\n",
        "\n",
        "神经网络----由层/模块组成，那是由什么样的模块和层组成呢----对数据执行操作的模块/层"
      ],
      "metadata": {
        "id": "iCZ3zZt-jfDj"
      }
    },
    {
      "cell_type": "code",
      "source": [
        "import os\n",
        "import torch\n",
        "from torch import nn\n",
        "from torch.utils.data import DataLoader\n",
        "from torchvision import datasets,transforms\n",
        "#\n",
        "#获取训练设备，当存在加速器（CUDA,MPS等）时,使用加速器，不存在时选择cpu\n",
        "device = torch.accelerator.current_accelerator().type if torch.accelerator.is_available() else \"cpu\"\n",
        "print(f\"Using {device} device\")\n",
        "#print(torch.accelerator.current_accelerator())\n"
      ],
      "metadata": {
        "colab": {
          "base_uri": "https://localhost:8080/"
        },
        "id": "olkCvmW5kBHG",
        "outputId": "6693dc55-035c-4de0-b7f4-00802b8b684c"
      },
      "execution_count": 74,
      "outputs": [
        {
          "output_type": "stream",
          "name": "stdout",
          "text": [
            "Using cpu device\n"
          ]
        }
      ]
    },
    {
      "cell_type": "markdown",
      "source": [
        "###定义类\n"
      ],
      "metadata": {
        "id": "cSBo1rm38t5g"
      }
    },
    {
      "cell_type": "code",
      "source": [
        "class NeuralNetwork(nn.Module):\n",
        "  def __init__(self):\n",
        "    super().__init__()\n",
        "    self.flatten = nn.Flatten()\n",
        "    self.linear_relu_stack = nn.Sequential(\n",
        "        nn.Linear(28*28,512),\n",
        "        nn.ReLU(),\n",
        "        nn.Linear(512,512),\n",
        "        nn.ReLU(),\n",
        "        nn.Linear(512,10),\n",
        "    )\n",
        "\n",
        "  def forward(self,x):\n",
        "    x = self.flatten(x)\n",
        "    logits = self.linear_relu_stack(x)\n",
        "    return logits"
      ],
      "metadata": {
        "id": "HzyuUuwYmshe"
      },
      "execution_count": 75,
      "outputs": []
    },
    {
      "cell_type": "code",
      "source": [
        "#关于nn.Linear的完美解析  layer1 = nn.Linear(in_features=28*28, out_features=20)\n",
        "# 你可以把这个线性层想象成一个处理单元，它接收一个包含 784 个数字的列表，\n",
        "# 并通过一个复杂的数学运算（矩阵乘法和加法）将其转换为一个包含 20 个数字的新列表。\n",
        "\n",
        "# 权重矩阵 (W): PyTorch 会在内部自动创建一个大小为 [out_features, in_features]，\n",
        "# 即 [20, 784] 的权重矩阵。\n",
        "\n",
        "# 偏置向量 (b): 同时，它还会创建一个大小为 [out_features]，即 [20] 的偏置向量。\n",
        "\n",
        "# 计算: 当一个大小为 [batch_size, 784] 的输入张量 x 通过该层时，它会执行以下计算：\n",
        "# y=x⋅W\n",
        "# T\n",
        "#  +b\n",
        "# 这里的 W\n",
        "# T\n",
        "#   是权重矩阵的转置。计算后得到的输出 y 的大小为 [batch_size, 20]。\n",
        "\n",
        "# 简而言之，layer1 学习如何将输入的 784 个像素特征组合和转换为 20 个更有意义\n",
        "# 的抽象特征，这些新特征将帮助神经网络完成最终的任务（例如，图像分类）。"
      ],
      "metadata": {
        "id": "zBTeAOtFWpTG"
      },
      "execution_count": 76,
      "outputs": []
    },
    {
      "cell_type": "code",
      "source": [
        "model = NeuralNetwork().to(device)\n",
        "print(model)"
      ],
      "metadata": {
        "colab": {
          "base_uri": "https://localhost:8080/"
        },
        "id": "4qandHK1mr6h",
        "outputId": "b64a5ccf-9f3a-4286-ab17-11416aafb175"
      },
      "execution_count": 77,
      "outputs": [
        {
          "output_type": "stream",
          "name": "stdout",
          "text": [
            "NeuralNetwork(\n",
            "  (flatten): Flatten(start_dim=1, end_dim=-1)\n",
            "  (linear_relu_stack): Sequential(\n",
            "    (0): Linear(in_features=784, out_features=512, bias=True)\n",
            "    (1): ReLU()\n",
            "    (2): Linear(in_features=512, out_features=512, bias=True)\n",
            "    (3): ReLU()\n",
            "    (4): Linear(in_features=512, out_features=10, bias=True)\n",
            "  )\n",
            ")\n"
          ]
        }
      ]
    },
    {
      "cell_type": "code",
      "source": [
        "X = torch.rand(1,28,28,device=device)\n",
        "logits = model(X)  #logits在\n",
        "\n",
        "#样本和类别的关系是：每个样本属于一个类别，我们通过样本的特征来预测它所属的类别。\n",
        "\n",
        "#Softmax() 将logits张量 沿着类别维度进行归一化操作 功能：指数化 归一化 输出概率分布\n",
        "#Softmax() 功能事件模型输出的logits（一堆任意值）转换成一个概率分布，\n",
        "#转换后的每个值都在0和1之间，并且所有值的总和为1\n",
        "pred_probab_1 = nn.Softmax(dim=1)(logits)\n",
        "\n",
        "#为什么是dim=1?\n",
        "#  回顾logits的形状是（1,10），即（批量大小，类别数）\n",
        "#  dim=0是批量维度，dim=1是类别维度\n",
        "#  我们的目标是在所有类别之间计算概率，看看输入图片X属于每个类别的可能性是多少。\n",
        "#  因此，我们必须沿着类别维度进行归一化\n",
        "\n",
        "pred_probab_0 = nn.Softmax(dim=0)(logits)\n",
        "y_pred = pred_probab_1.argmax(1)\n",
        "print(f\"pred probab dim=1: {pred_probab_1}\")#这张图属于 10 个类别的预测概率\n",
        "print(f\"pred probab dim=0: {pred_probab_0}\")\n",
        "print(f\"Predicted class: {y_pred}\")"
      ],
      "metadata": {
        "colab": {
          "base_uri": "https://localhost:8080/"
        },
        "id": "-nW49pY_x8Xo",
        "outputId": "94531764-586f-44a7-9188-140feed9d2e2"
      },
      "execution_count": 78,
      "outputs": [
        {
          "output_type": "stream",
          "name": "stdout",
          "text": [
            "pred probab dim=1: tensor([[0.1028, 0.1009, 0.1076, 0.0995, 0.1099, 0.0956, 0.0898, 0.0997, 0.0990,\n",
            "         0.0952]], grad_fn=<SoftmaxBackward0>)\n",
            "pred probab dim=0: tensor([[1., 1., 1., 1., 1., 1., 1., 1., 1., 1.]], grad_fn=<SoftmaxBackward0>)\n",
            "Predicted class: tensor([4])\n"
          ]
        }
      ]
    },
    {
      "cell_type": "markdown",
      "source": [
        "###模型层"
      ],
      "metadata": {
        "id": "130m_jEH83kw"
      }
    },
    {
      "cell_type": "code",
      "source": [
        "input_image = torch.rand(3,28,28)\n",
        "print(input_image.size())"
      ],
      "metadata": {
        "colab": {
          "base_uri": "https://localhost:8080/"
        },
        "id": "trZbakwS9DN5",
        "outputId": "3daec04f-c597-475a-dcc9-23b774b3e3c9"
      },
      "execution_count": 79,
      "outputs": [
        {
          "output_type": "stream",
          "name": "stdout",
          "text": [
            "torch.Size([3, 28, 28])\n"
          ]
        }
      ]
    },
    {
      "cell_type": "code",
      "source": [
        "flatten = nn.Flatten()\n",
        "flat_image = flatten(input_image)\n",
        "print(flat_image.size())\n",
        "print(flat_image)"
      ],
      "metadata": {
        "colab": {
          "base_uri": "https://localhost:8080/"
        },
        "id": "AQfVK0G9-Bs6",
        "outputId": "cdfaf092-3c01-44a8-a304-ae0bc2986324"
      },
      "execution_count": 80,
      "outputs": [
        {
          "output_type": "stream",
          "name": "stdout",
          "text": [
            "torch.Size([3, 784])\n",
            "tensor([[0.3011, 0.9904, 0.0395,  ..., 0.4114, 0.3788, 0.8086],\n",
            "        [0.5883, 0.4743, 0.8378,  ..., 0.9051, 0.3852, 0.5096],\n",
            "        [0.9527, 0.8917, 0.4425,  ..., 0.3267, 0.5198, 0.6955]])\n"
          ]
        }
      ]
    },
    {
      "cell_type": "code",
      "source": [
        "layer1=nn.Linear(in_features=28*28,out_features=20)\n",
        "hidden1=layer1(flat_image)\n",
        "print(hidden1.size())"
      ],
      "metadata": {
        "colab": {
          "base_uri": "https://localhost:8080/"
        },
        "id": "Zd7TmPC9DIVR",
        "outputId": "c6e8685e-461e-43ad-a1a2-4dc4128e170e"
      },
      "execution_count": 81,
      "outputs": [
        {
          "output_type": "stream",
          "name": "stdout",
          "text": [
            "torch.Size([3, 20])\n"
          ]
        }
      ]
    },
    {
      "cell_type": "code",
      "source": [
        "#nn.Sequential\n",
        "\n",
        "seq_modules = nn.Sequential(\n",
        "    flatten,\n",
        "    layer1,\n",
        "    nn.ReLU(),\n",
        "    nn.Linear(20,10)\n",
        ")\n",
        "input_image = torch.rand(3,28,28)\n",
        "logits = seq_modules(input_image)\n",
        "print(f\"input_image: {input_image}\")\n",
        "print(logits)"
      ],
      "metadata": {
        "colab": {
          "base_uri": "https://localhost:8080/"
        },
        "id": "IOifhGRra6o0",
        "outputId": "8269e6ce-dadd-4eaf-848a-dbdbeec2e0f5"
      },
      "execution_count": 82,
      "outputs": [
        {
          "output_type": "stream",
          "name": "stdout",
          "text": [
            "input_image: tensor([[[0.0043, 0.9222, 0.2425,  ..., 0.3202, 0.9619, 0.0490],\n",
            "         [0.0663, 0.2717, 0.2006,  ..., 0.6424, 0.4597, 0.8548],\n",
            "         [0.9341, 0.8942, 0.5215,  ..., 0.4008, 0.2373, 0.3529],\n",
            "         ...,\n",
            "         [0.3675, 0.8921, 0.1156,  ..., 0.5958, 0.0455, 0.7199],\n",
            "         [0.7296, 0.9063, 0.1837,  ..., 0.0985, 0.1340, 0.9068],\n",
            "         [0.1168, 0.6564, 0.1343,  ..., 0.3888, 0.1817, 0.5197]],\n",
            "\n",
            "        [[0.9702, 0.6879, 0.3815,  ..., 0.7671, 0.1307, 0.2382],\n",
            "         [0.2457, 0.3685, 0.1415,  ..., 0.0229, 0.9759, 0.4877],\n",
            "         [0.0639, 0.4707, 0.8785,  ..., 0.5110, 0.1011, 0.6383],\n",
            "         ...,\n",
            "         [0.4680, 0.5972, 0.2394,  ..., 0.7754, 0.9055, 0.3889],\n",
            "         [0.9738, 0.0290, 0.9522,  ..., 0.5956, 0.7104, 0.5448],\n",
            "         [0.5554, 0.0054, 0.7306,  ..., 0.5885, 0.6885, 0.3018]],\n",
            "\n",
            "        [[0.0204, 0.5937, 0.1634,  ..., 0.4100, 0.5140, 0.1128],\n",
            "         [0.2339, 0.3266, 0.6465,  ..., 0.6006, 0.8634, 0.9765],\n",
            "         [0.2222, 0.1905, 0.1121,  ..., 0.1899, 0.2112, 0.6296],\n",
            "         ...,\n",
            "         [0.0247, 0.7031, 0.2221,  ..., 0.7957, 0.5886, 0.8656],\n",
            "         [0.4199, 0.6181, 0.2914,  ..., 0.5895, 0.6676, 0.3076],\n",
            "         [0.9802, 0.9455, 0.9778,  ..., 0.9425, 0.9673, 0.8675]]])\n",
            "tensor([[ 0.1998, -0.1492,  0.0720, -0.1088,  0.1358, -0.2038, -0.2139, -0.1318,\n",
            "         -0.0172,  0.2015],\n",
            "        [ 0.2061, -0.1117, -0.0446, -0.0882,  0.2031, -0.1547, -0.1478, -0.0780,\n",
            "          0.0422,  0.1135],\n",
            "        [ 0.2520, -0.1200,  0.0125, -0.1222,  0.1370, -0.2467, -0.1216, -0.1026,\n",
            "          0.0506,  0.1459]], grad_fn=<AddmmBackward0>)\n"
          ]
        }
      ]
    },
    {
      "cell_type": "code",
      "source": [
        "#nn.Softmax\n",
        "\n",
        "softmax = nn.Softmax(dim=1)\n",
        "pred_probab = softmax(logits)\n"
      ],
      "metadata": {
        "id": "1NKEKHtLghDP"
      },
      "execution_count": 83,
      "outputs": []
    },
    {
      "cell_type": "code",
      "source": [
        "#Model Parameters\n",
        "\n",
        "print(f\"Model structure: {model}\\n\\n\")\n",
        "\n",
        "for name,param in model.named_parameters():\n",
        "  print(f\"Layer: {name} | Size: {param.size()}\")"
      ],
      "metadata": {
        "colab": {
          "base_uri": "https://localhost:8080/"
        },
        "id": "4XbUzXRagvpJ",
        "outputId": "f75af641-0a5e-4348-b905-9f6dd3831957"
      },
      "execution_count": 84,
      "outputs": [
        {
          "output_type": "stream",
          "name": "stdout",
          "text": [
            "Model structure: NeuralNetwork(\n",
            "  (flatten): Flatten(start_dim=1, end_dim=-1)\n",
            "  (linear_relu_stack): Sequential(\n",
            "    (0): Linear(in_features=784, out_features=512, bias=True)\n",
            "    (1): ReLU()\n",
            "    (2): Linear(in_features=512, out_features=512, bias=True)\n",
            "    (3): ReLU()\n",
            "    (4): Linear(in_features=512, out_features=10, bias=True)\n",
            "  )\n",
            ")\n",
            "\n",
            "\n",
            "Layer: linear_relu_stack.0.weight | Size: torch.Size([512, 784])\n",
            "Layer: linear_relu_stack.0.bias | Size: torch.Size([512])\n",
            "Layer: linear_relu_stack.2.weight | Size: torch.Size([512, 512])\n",
            "Layer: linear_relu_stack.2.bias | Size: torch.Size([512])\n",
            "Layer: linear_relu_stack.4.weight | Size: torch.Size([10, 512])\n",
            "Layer: linear_relu_stack.4.bias | Size: torch.Size([10])\n"
          ]
        }
      ]
    },
    {
      "cell_type": "code",
      "source": [
        "import torch\n",
        "\n",
        "x = torch.ones(5)#输入张量\n",
        "y = torch.zeros(3)#预期输出\n",
        "w = torch.randn(5,3,requires_grad = True)\n",
        "b = torch.randn(3,requires_grad = True)\n",
        "\n",
        "z = torch.matmul(x,w)+b\n",
        "#通过真实输出值和预期输出经过损失函数得到损失值\n",
        "loss = torch.nn.functional.binary_cross_entropy_with_logits(z,y)\n",
        "print(loss)\n",
        "#w和b是我们需要优化的参数"
      ],
      "metadata": {
        "colab": {
          "base_uri": "https://localhost:8080/"
        },
        "id": "V01FeGNY28o5",
        "outputId": "bd928ea5-51c1-4002-9d74-456e2e2762cf"
      },
      "execution_count": 85,
      "outputs": [
        {
          "output_type": "stream",
          "name": "stdout",
          "text": [
            "tensor(0.5431, grad_fn=<BinaryCrossEntropyWithLogitsBackward0>)\n"
          ]
        }
      ]
    },
    {
      "cell_type": "code",
      "source": [
        "print(f\"Gradient function for z={z.grad_fn}\")\n",
        "print(f\"Gradient function for loss={loss.grad_fn}\")"
      ],
      "metadata": {
        "colab": {
          "base_uri": "https://localhost:8080/"
        },
        "id": "Hba567SG86Un",
        "outputId": "7db7f50d-1ca8-4851-cb19-ab2b7e1bbf99"
      },
      "execution_count": 86,
      "outputs": [
        {
          "output_type": "stream",
          "name": "stdout",
          "text": [
            "Gradient function for z=<AddBackward0 object at 0x7b1b80150610>\n",
            "Gradient function for loss=<BinaryCrossEntropyWithLogitsBackward0 object at 0x7b1b80153cd0>\n"
          ]
        }
      ]
    },
    {
      "cell_type": "markdown",
      "source": [
        "###反向传播,计算权重和偏置的梯度"
      ],
      "metadata": {
        "id": "lOLW3owb_c7-"
      }
    },
    {
      "cell_type": "markdown",
      "source": [
        "![image.png](data:image/png;base64,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)"
      ],
      "metadata": {
        "id": "9pBFLufX_Vpm"
      }
    },
    {
      "cell_type": "code",
      "source": [
        "#反向传播,计算权重和偏置的梯度\n",
        "loss.backward()\n",
        "print(w.grad)\n",
        "print(b.grad)"
      ],
      "metadata": {
        "colab": {
          "base_uri": "https://localhost:8080/"
        },
        "id": "q_P-mGp29dK_",
        "outputId": "a3403910-8584-439f-8504-63bb0ea7282b"
      },
      "execution_count": 87,
      "outputs": [
        {
          "output_type": "stream",
          "name": "stdout",
          "text": [
            "tensor([[0.1836, 0.1120, 0.1141],\n",
            "        [0.1836, 0.1120, 0.1141],\n",
            "        [0.1836, 0.1120, 0.1141],\n",
            "        [0.1836, 0.1120, 0.1141],\n",
            "        [0.1836, 0.1120, 0.1141]])\n",
            "tensor([0.1836, 0.1120, 0.1141])\n"
          ]
        }
      ]
    },
    {
      "cell_type": "markdown",
      "source": [
        "###禁用梯度\n",
        "\n",
        "您可能希望禁用梯度跟踪的原因如下：\n",
        "将神经网络中的某些参数标记为冻结参数。\n",
        "\n",
        "当您仅进行前向传递时，可以加快计算速度，因为不跟踪梯度的张量的计算会更有效率。"
      ],
      "metadata": {
        "id": "3bz7nwpTDC4c"
      }
    },
    {
      "cell_type": "code",
      "source": [
        "#当已经训练好模型，只是想应用于一些输入数据时（只进行向前传播（即只进行“执行\"操作）\n",
        "#不需要继续学习和修复），就需要停止梯度更新,\n",
        "\n",
        "#停止梯度更新需要使用no_grad()方法\n",
        "\n",
        "z = torch.matmul(x,w)+b\n",
        "print(z.requires_grad)\n",
        "\n",
        "with torch.no_grad():\n",
        "  z = torch.matmul(x,w)+b\n",
        "print(z.requires_grad)\n",
        "\n",
        "#另一种实现相同结果的方法是 detach()\n",
        "\n",
        "z=torch.matmul(x,w)+b\n",
        "z_det = z.detach()\n",
        "print(z_det.requires_grad)"
      ],
      "metadata": {
        "colab": {
          "base_uri": "https://localhost:8080/"
        },
        "id": "Wd3Npz9J_Mq2",
        "outputId": "4da46225-0574-4b33-8a97-a3a69bc9e1b1"
      },
      "execution_count": 88,
      "outputs": [
        {
          "output_type": "stream",
          "name": "stdout",
          "text": [
            "True\n",
            "False\n",
            "False\n"
          ]
        }
      ]
    },
    {
      "cell_type": "code",
      "source": [
        "inp = torch.eye(4,5,requires_grad=True)\n",
        "out = (inp+1).pow(2).t()\n",
        "out.backward(torch.ones_like(out),retain_graph=True)\n",
        "print(f\"First call\\n{inp.grad}\")\n",
        "\n",
        "#当我们第二次调用相同的参数是，梯度的值会有所不同，因为在进行反向传播时，\n",
        "#PyTorch会累计梯度（将第一次计算出的梯度值添加到grad计算图所有叶节点的属性中）\n",
        "out.backward(torch.ones_like(out),retain_graph=True)\n",
        "print(f\"\\nSecond call\\n{inp.grad}\")\n",
        "\n",
        "#如果要计算正确的梯度，需要将grad属性清零\n",
        "inp.grad.zero_()\n",
        "out.backward(torch.ones_like(out),retain_graph=True)\n",
        "print(f\"\\nCall after zeroing gradients\\n{inp.grad}\")\n",
        "#"
      ],
      "metadata": {
        "colab": {
          "base_uri": "https://localhost:8080/"
        },
        "id": "0rnnYDeKE7dz",
        "outputId": "00ae99e8-46aa-4cc7-9984-7f561c78e506"
      },
      "execution_count": 89,
      "outputs": [
        {
          "output_type": "stream",
          "name": "stdout",
          "text": [
            "First call\n",
            "tensor([[4., 2., 2., 2., 2.],\n",
            "        [2., 4., 2., 2., 2.],\n",
            "        [2., 2., 4., 2., 2.],\n",
            "        [2., 2., 2., 4., 2.]])\n",
            "\n",
            "Second call\n",
            "tensor([[8., 4., 4., 4., 4.],\n",
            "        [4., 8., 4., 4., 4.],\n",
            "        [4., 4., 8., 4., 4.],\n",
            "        [4., 4., 4., 8., 4.]])\n",
            "\n",
            "Call after zeroing gradients\n",
            "tensor([[4., 2., 2., 2., 2.],\n",
            "        [2., 4., 2., 2., 2.],\n",
            "        [2., 2., 4., 2., 2.],\n",
            "        [2., 2., 2., 4., 2.]])\n"
          ]
        }
      ]
    },
    {
      "cell_type": "markdown",
      "source": [
        "###优化模型参数\n",
        "\n",
        "通过优化模型参数来训练、验证和测试模型"
      ],
      "metadata": {
        "id": "a0rN9ku1LOpg"
      }
    },
    {
      "cell_type": "code",
      "source": [
        "#先决条件代码\n",
        "import torch\n",
        "from torch import nn\n",
        "from torch.utils.data import DataLoader\n",
        "from torchvision import datasets\n",
        "from torchvision.transforms import ToTensor\n",
        "\n",
        "training_data = datasets.FashionMNIST(\n",
        "    root=\"data\",\n",
        "    train=True,\n",
        "    download=True,\n",
        "    transform=ToTensor()\n",
        ")\n",
        "\n",
        "test_data = datasets.FashionMNIST(\n",
        "    root=\"data\",\n",
        "    train=False,\n",
        "    download=True,\n",
        "    transform=ToTensor()\n",
        ")\n",
        "\n",
        "train_dataloader = DataLoader(training_data,batch_size=64)\n",
        "test_dataloader = DataLoader(test_data,batch_size=64)\n",
        "\n",
        "class NeuralNetwork(nn.Module):\n",
        "  def __init__(self):\n",
        "    super().__init__()\n",
        "    self.flatten = nn.Flatten()\n",
        "    self.linear_relu_stack = nn.Sequential(\n",
        "        nn.Linear(28*28,512),\n",
        "        nn.ReLU(),\n",
        "        nn.Linear(512,512),\n",
        "        nn.ReLU(),\n",
        "        nn.Linear(512,10),\n",
        "    )\n",
        "\n",
        "  def forward(self,x):\n",
        "    x = self.flatten(x)\n",
        "    logits = self.linear_relu_stack(x)\n",
        "    return logits\n",
        "\n",
        "model = NeuralNetwork()"
      ],
      "metadata": {
        "id": "f8iP7U8CLuDI"
      },
      "execution_count": 98,
      "outputs": []
    },
    {
      "cell_type": "code",
      "source": [
        "#Hyperparameters(超参数)--可调整的参数，用于控制模型优化过程\n",
        "\n",
        "#超参数：\n",
        "#number of epochs\n",
        "#batch size\n",
        "#learning rate\n",
        "\n",
        "learning_rate = 1e-3\n",
        "batch_size = 64\n",
        "epochs = 5"
      ],
      "metadata": {
        "id": "nSh8ob5Iy7XY"
      },
      "execution_count": 91,
      "outputs": []
    },
    {
      "cell_type": "code",
      "source": [
        "#优化循环 Optimization Loop\n",
        "\n",
        "#训练循环和验证/测试循环\n",
        "\n",
        "#损失函数 -- 用于回归任务的均方误差 用于分类的交叉熵\n",
        "#初始化损失函数\n",
        "loss_fn = nn.CrossEntropyLoss()"
      ],
      "metadata": {
        "id": "3Clrinq147hW"
      },
      "execution_count": 92,
      "outputs": []
    },
    {
      "cell_type": "code",
      "source": [
        "#Optimizer（优化器）\n",
        "\n",
        "#优化 -- 在每个训练步骤中通过调整模型参数减少模型误差的过程\n",
        "#优化算法如下：\n",
        "#SGD -- 随机梯度下降\n",
        "#ADAM\n",
        "#RMSProp\n",
        "\n",
        "#初始化优化器 通过注册要训练的模型参数和学习率来初始化优化器\n",
        "optimizer = torch.optim.SGD(model.parameters(),lr=learning_rate)\n",
        "\n",
        "\n"
      ],
      "metadata": {
        "id": "nkwSMHBI5tGz"
      },
      "execution_count": 93,
      "outputs": []
    },
    {
      "cell_type": "markdown",
      "source": [
        "###训练循环\n",
        "循环训练中，优化的三个步骤：\n",
        "\n",
        "1 调用optimizer.zero_gra()方法重置模型参数的梯度。\n",
        "\n",
        "   (梯度默认累加，防止重复计算，每次迭代时明确将其归零)\n",
        "\n",
        "2 调用loss.backward()反向传播预测损失。\n",
        "   PyTorch通过设置requires_grad=True来存储每个参数的损失梯度\n",
        "\n",
        "3 一旦有了梯度，调用optimizer.step()方法通过在反向传输中收集到的梯度来调整参数"
      ],
      "metadata": {
        "id": "zfkIwm9_-e2t"
      }
    },
    {
      "cell_type": "markdown",
      "source": [
        "dropout 层 --- 防止模型过拟合的强大技术\n",
        "\n",
        "    Dropout层的核心思想非常巧妙：强制网络不过分依赖任何一个神经元。\n",
        "\n",
        "通过在训练过程的每一步中，随机地“关闭”或“丢弃”一部分神经元，来增强模型的泛化能力。\n",
        "\n",
        "具体步骤：\n",
        "  1随机选择：对于应用了dropout的层，其中的每一个神经元都有一个预设的概率p被暂时丢弃。\n",
        "\n",
        "  2暂时关闭：被选中的神经元及其所有连接在这次正向传播和反向传播中都会被完全忽略，仿佛它们不存在一样。\n",
        "  \n",
        "  3恢复并重复：在下一步训练中，会重新随机选择一批神经元进行“丢弃”，而之前的神经元会恢复正常。"
      ],
      "metadata": {
        "id": "f94gtgpyPFZr"
      }
    },
    {
      "cell_type": "code",
      "source": [
        "#定义train_loop和test_loop方法\n",
        "\n",
        "def train_loop(dataloader,model,loss_fn,optimizer):\n",
        "  size=len(dataloader.dataset) #数据集中所有样本数\n",
        "  #将模型设置为训练模式--对于批量标准化和dropout层很重要\n",
        "  model.train()\n",
        "  for batch,(X,y) in enumerate(dataloader):\n",
        "    #计算预测值和损失\n",
        "    pred=model(X)\n",
        "    loss = loss_fn(pred,y)\n",
        "\n",
        "    #batch -- 批次索引 batch index\n",
        "    #batch size -- 批量大小\n",
        "    #epoch -- 轮次 -- 批次索引一个循环未一个轮次\n",
        "\n",
        "    #反向传播\n",
        "    loss.backward() #预测损失，存储每个参数的损失梯度\n",
        "    optimizer.step() #将收集到的梯度在反向传输中用于参数优化\n",
        "    optimizer.zero_grad() #重置梯度，由于梯度默认累加，防止重复计算\n",
        "\n",
        "    #使用closure函数\n",
        "    #def closure():\n",
        "    #  optimizer.zero_gred()\n",
        "    #  pred = model(X)\n",
        "    #  loss = loss_fn(pred,y)\n",
        "    #  loss.backward()\n",
        "    #  return loss\n",
        "    #optimizer.step(closure)\n",
        "\n",
        "    #日志输出\n",
        "    if batch % 100 == 0:\n",
        "      loss,current = loss.item(),batch * batch_size + len(X)\n",
        "      print(f\"loss: {loss:>7f} [{current:>5d}/{size:>5d}]\")\n",
        "\n",
        "def test_loop(dataloader,model,loss_fn):\n",
        "  #设置模型未评估测试模式 -- 对批次标准化和dropout层很重要\n",
        "  model.eval()\n",
        "  size = len(dataloader.dataset) #数据集中样本总数\n",
        "  num_batches = len(dataloader) #一个数据集中产生的批次数（一个epoch中batch的数量）\n",
        "  test_loss,correct = 0,0\n",
        "\n",
        "  #使用torch.no_grad()评估模型可确保在测试模式下不计算梯度\n",
        "  with torch.no_grad():\n",
        "    for X,y in dataloader:\n",
        "      pred = model(X)\n",
        "      test_loss += loss_fn(pred,y).item()\n",
        "\n",
        "      #对当前batch的预测结果，与真实标签对比，（将张量元素中的布尔型true/false转为浮点型1.0/0.0），\n",
        "      #统计有多少个预测是正确的，然后加到总计数correct上\n",
        "      correct += (pred.argmax(1) == y).type(torch.float).sum().item()\n",
        "\n",
        "      #y.shape --> y.Size(batch_size,)\n",
        "      #pred.shape --> pred.Size(batch_size,num_classess)\n",
        "\n",
        "      #是按批次进行比较，(X，y)这个元组，X和y都是第0维为batch_size的张量\n",
        "      # 每次取一个小批次进行比较（batch_size = 64）\n",
        "\n",
        "  test_loss /= num_batches #每个批次的平均损失 ---> 一个批次统计一次损失值\n",
        "  correct /= size #准确率 ---> 预测正确的样本数 占 总样本数的 比例\n",
        "  print(f\"Test Error: \\n Accuracy: {(100*correct):>0.1f}%, Avg loss: {test_loss:>8f} \\n\")\n",
        ""
      ],
      "metadata": {
        "id": "06_BR7vB-dNS"
      },
      "execution_count": 105,
      "outputs": []
    },
    {
      "cell_type": "markdown",
      "source": [
        "####优化器（optimizer）使用`.step()`方法来更新参数。\n",
        "可以通过两种方式来使用：\n",
        "\n",
        "  1.一旦使用backward()方法计算梯度，就可以使用`.step()`方法\n",
        "```\n",
        "  for input, target in dataset:\n",
        "    optimizer.zero_grad()\n",
        "    output = model(input)\n",
        "    loss = loss_fn(output, target)\n",
        "    loss.backward()\n",
        "    optimizer.step()\n",
        "```\n",
        "\n",
        "  2.一些优化算法需要多次重新计算函数，因此必须传入一个闭包，允许他们重新计算模型。该闭包应该清除梯度，计算损失并返回结果。\n",
        "\n",
        "  ```\n",
        "  #optimizer.step(closure) 的作用: 当 step 方法接收到一个闭包时，\n",
        "  #它的行为就变得强大得多了。它自己会调用这个 closure 函数，\n",
        "  #通常会调用一次。但对于某些特殊的优化器，它可能会在一个 step 内多次调用 closure。\n",
        "\n",
        "\n",
        "    for input,target in dataset:\n",
        "      def closure():\n",
        "        optimizer.zero_grad()\n",
        "        output = model(input)\n",
        "        loss = loss_fn(output,target)\n",
        "        loss.backword()\n",
        "        return loss\n",
        "      optimizer.step(closure)\n",
        "\n",
        "  ```"
      ],
      "metadata": {
        "id": "HdbyZ9bb-T10"
      }
    },
    {
      "cell_type": "markdown",
      "source": [
        "### “注册”是pytorch`nnModule`的一种特定行为，用于追踪和管理模型的参数和子模块\n",
        "\n",
        "###注册为模型参数的方式（使用nn.Parameter()方法）\n",
        "\n",
        " 方式一：使用 nn.Parameter 包装，会被自动注册\n",
        "\n",
        " `self.registered_param = nn.Parameter(torch.randn(2, 2))`\n",
        "\n",
        " 方式二：一个普通的张量，不会被注册\n",
        "\n",
        " `self.normal_tensor = torch.randn(3, 3)`\n",
        "\n",
        " 方式三：先定义普通张量，再包装成 Parameter (效果同方式一)\n",
        "\n",
        " `temp_tensor = torch.randn(4, 4)`\n",
        "\n",
        " `self.another_registered_param = nn.Parameter(temp_tensor)`\n"
      ],
      "metadata": {
        "id": "AGbRMvTnGRHL"
      }
    },
    {
      "cell_type": "code",
      "source": [
        "#初始化损失函数和优化器\n",
        "\n",
        "loss_fn = nn.CrossEntropyLoss()\n",
        "\n",
        "# .parameters()方法的核心功能：提供一种便捷的方式来访问模型中所有需要学习和更新的权重和偏置\n",
        "# 这些参数正式神经网络在训练过程中，通过反向传播算法计算梯度并由优化器进行更新的对象\n",
        "optimizer = torch.optim.SGD(model.parameters(),lr = learning_rate)\n",
        "\n",
        "epochs = 16\n",
        "for t in range(epochs):\n",
        "  print(f\"Epoch {t+1}\\n------------------------\")\n",
        "  train_loop(train_dataloader,model,loss_fn,optimizer)\n",
        "  test_loop(test_dataloader,model,loss_fn)\n",
        "print(\"Done!\")\n"
      ],
      "metadata": {
        "colab": {
          "base_uri": "https://localhost:8080/"
        },
        "id": "UpJo8V7CoGga",
        "outputId": "7b9c722a-af27-43d7-c79d-078130ce6134"
      },
      "execution_count": 107,
      "outputs": [
        {
          "output_type": "stream",
          "name": "stdout",
          "text": [
            "Epoch 1\n",
            "------------------------\n",
            "loss: 0.534954 [   64/60000]\n",
            "loss: 0.645732 [ 6464/60000]\n",
            "loss: 0.433111 [12864/60000]\n",
            "loss: 0.680051 [19264/60000]\n",
            "loss: 0.591147 [25664/60000]\n",
            "loss: 0.583283 [32064/60000]\n",
            "loss: 0.616074 [38464/60000]\n",
            "loss: 0.664739 [44864/60000]\n",
            "loss: 0.652746 [51264/60000]\n",
            "loss: 0.610485 [57664/60000]\n",
            "Test Error: \n",
            " Accuracy: 79.3%, Avg loss: 0.598976 \n",
            "\n",
            "Epoch 2\n",
            "------------------------\n",
            "loss: 0.522678 [   64/60000]\n",
            "loss: 0.633354 [ 6464/60000]\n",
            "loss: 0.423717 [12864/60000]\n",
            "loss: 0.671299 [19264/60000]\n",
            "loss: 0.584225 [25664/60000]\n",
            "loss: 0.577110 [32064/60000]\n",
            "loss: 0.604359 [38464/60000]\n",
            "loss: 0.660911 [44864/60000]\n",
            "loss: 0.647635 [51264/60000]\n",
            "loss: 0.600474 [57664/60000]\n",
            "Test Error: \n",
            " Accuracy: 79.6%, Avg loss: 0.590497 \n",
            "\n",
            "Epoch 3\n",
            "------------------------\n",
            "loss: 0.511332 [   64/60000]\n",
            "loss: 0.621959 [ 6464/60000]\n",
            "loss: 0.415077 [12864/60000]\n",
            "loss: 0.663064 [19264/60000]\n",
            "loss: 0.577630 [25664/60000]\n",
            "loss: 0.571294 [32064/60000]\n",
            "loss: 0.593495 [38464/60000]\n",
            "loss: 0.657931 [44864/60000]\n",
            "loss: 0.643273 [51264/60000]\n",
            "loss: 0.590804 [57664/60000]\n",
            "Test Error: \n",
            " Accuracy: 79.8%, Avg loss: 0.582666 \n",
            "\n",
            "Epoch 4\n",
            "------------------------\n",
            "loss: 0.500701 [   64/60000]\n",
            "loss: 0.611485 [ 6464/60000]\n",
            "loss: 0.407088 [12864/60000]\n",
            "loss: 0.655265 [19264/60000]\n",
            "loss: 0.571229 [25664/60000]\n",
            "loss: 0.565799 [32064/60000]\n",
            "loss: 0.583459 [38464/60000]\n",
            "loss: 0.655721 [44864/60000]\n",
            "loss: 0.639554 [51264/60000]\n",
            "loss: 0.581478 [57664/60000]\n",
            "Test Error: \n",
            " Accuracy: 80.0%, Avg loss: 0.575417 \n",
            "\n",
            "Epoch 5\n",
            "------------------------\n",
            "loss: 0.490696 [   64/60000]\n",
            "loss: 0.601804 [ 6464/60000]\n",
            "loss: 0.399719 [12864/60000]\n",
            "loss: 0.647888 [19264/60000]\n",
            "loss: 0.565056 [25664/60000]\n",
            "loss: 0.560526 [32064/60000]\n",
            "loss: 0.574157 [38464/60000]\n",
            "loss: 0.654106 [44864/60000]\n",
            "loss: 0.636371 [51264/60000]\n",
            "loss: 0.572400 [57664/60000]\n",
            "Test Error: \n",
            " Accuracy: 80.2%, Avg loss: 0.568696 \n",
            "\n",
            "Epoch 6\n",
            "------------------------\n",
            "loss: 0.481347 [   64/60000]\n",
            "loss: 0.592869 [ 6464/60000]\n",
            "loss: 0.392885 [12864/60000]\n",
            "loss: 0.640894 [19264/60000]\n",
            "loss: 0.559032 [25664/60000]\n",
            "loss: 0.555417 [32064/60000]\n",
            "loss: 0.565502 [38464/60000]\n",
            "loss: 0.653048 [44864/60000]\n",
            "loss: 0.633610 [51264/60000]\n",
            "loss: 0.563567 [57664/60000]\n",
            "Test Error: \n",
            " Accuracy: 80.4%, Avg loss: 0.562451 \n",
            "\n",
            "Epoch 7\n",
            "------------------------\n",
            "loss: 0.472530 [   64/60000]\n",
            "loss: 0.584552 [ 6464/60000]\n",
            "loss: 0.386535 [12864/60000]\n",
            "loss: 0.634215 [19264/60000]\n",
            "loss: 0.553095 [25664/60000]\n",
            "loss: 0.550494 [32064/60000]\n",
            "loss: 0.557440 [38464/60000]\n",
            "loss: 0.652484 [44864/60000]\n",
            "loss: 0.631235 [51264/60000]\n",
            "loss: 0.554947 [57664/60000]\n",
            "Test Error: \n",
            " Accuracy: 80.5%, Avg loss: 0.556650 \n",
            "\n",
            "Epoch 8\n",
            "------------------------\n",
            "loss: 0.464206 [   64/60000]\n",
            "loss: 0.576840 [ 6464/60000]\n",
            "loss: 0.380607 [12864/60000]\n",
            "loss: 0.627818 [19264/60000]\n",
            "loss: 0.547285 [25664/60000]\n",
            "loss: 0.545721 [32064/60000]\n",
            "loss: 0.549996 [38464/60000]\n",
            "loss: 0.652319 [44864/60000]\n",
            "loss: 0.629126 [51264/60000]\n",
            "loss: 0.546535 [57664/60000]\n",
            "Test Error: \n",
            " Accuracy: 80.6%, Avg loss: 0.551246 \n",
            "\n",
            "Epoch 9\n",
            "------------------------\n",
            "loss: 0.456307 [   64/60000]\n",
            "loss: 0.569696 [ 6464/60000]\n",
            "loss: 0.375080 [12864/60000]\n",
            "loss: 0.621690 [19264/60000]\n",
            "loss: 0.541606 [25664/60000]\n",
            "loss: 0.540985 [32064/60000]\n",
            "loss: 0.543156 [38464/60000]\n",
            "loss: 0.652535 [44864/60000]\n",
            "loss: 0.627236 [51264/60000]\n",
            "loss: 0.538359 [57664/60000]\n",
            "Test Error: \n",
            " Accuracy: 80.7%, Avg loss: 0.546207 \n",
            "\n",
            "Epoch 10\n",
            "------------------------\n",
            "loss: 0.448840 [   64/60000]\n",
            "loss: 0.563074 [ 6464/60000]\n",
            "loss: 0.369927 [12864/60000]\n",
            "loss: 0.615808 [19264/60000]\n",
            "loss: 0.536038 [25664/60000]\n",
            "loss: 0.536322 [32064/60000]\n",
            "loss: 0.536754 [38464/60000]\n",
            "loss: 0.652999 [44864/60000]\n",
            "loss: 0.625542 [51264/60000]\n",
            "loss: 0.530444 [57664/60000]\n",
            "Test Error: \n",
            " Accuracy: 80.9%, Avg loss: 0.541504 \n",
            "\n",
            "Epoch 11\n",
            "------------------------\n",
            "loss: 0.441804 [   64/60000]\n",
            "loss: 0.556916 [ 6464/60000]\n",
            "loss: 0.365100 [12864/60000]\n",
            "loss: 0.610167 [19264/60000]\n",
            "loss: 0.530628 [25664/60000]\n",
            "loss: 0.531692 [32064/60000]\n",
            "loss: 0.530761 [38464/60000]\n",
            "loss: 0.653620 [44864/60000]\n",
            "loss: 0.623887 [51264/60000]\n",
            "loss: 0.522820 [57664/60000]\n",
            "Test Error: \n",
            " Accuracy: 81.0%, Avg loss: 0.537109 \n",
            "\n",
            "Epoch 12\n",
            "------------------------\n",
            "loss: 0.435107 [   64/60000]\n",
            "loss: 0.551210 [ 6464/60000]\n",
            "loss: 0.360611 [12864/60000]\n",
            "loss: 0.604748 [19264/60000]\n",
            "loss: 0.525334 [25664/60000]\n",
            "loss: 0.527146 [32064/60000]\n",
            "loss: 0.525122 [38464/60000]\n",
            "loss: 0.654344 [44864/60000]\n",
            "loss: 0.622262 [51264/60000]\n",
            "loss: 0.515489 [57664/60000]\n",
            "Test Error: \n",
            " Accuracy: 81.1%, Avg loss: 0.532991 \n",
            "\n",
            "Epoch 13\n",
            "------------------------\n",
            "loss: 0.428738 [   64/60000]\n",
            "loss: 0.545946 [ 6464/60000]\n",
            "loss: 0.356409 [12864/60000]\n",
            "loss: 0.599530 [19264/60000]\n",
            "loss: 0.520151 [25664/60000]\n",
            "loss: 0.522702 [32064/60000]\n",
            "loss: 0.519793 [38464/60000]\n",
            "loss: 0.655108 [44864/60000]\n",
            "loss: 0.620626 [51264/60000]\n",
            "loss: 0.508461 [57664/60000]\n",
            "Test Error: \n",
            " Accuracy: 81.3%, Avg loss: 0.529126 \n",
            "\n",
            "Epoch 14\n",
            "------------------------\n",
            "loss: 0.422668 [   64/60000]\n",
            "loss: 0.541068 [ 6464/60000]\n",
            "loss: 0.352445 [12864/60000]\n",
            "loss: 0.594533 [19264/60000]\n",
            "loss: 0.515092 [25664/60000]\n",
            "loss: 0.518341 [32064/60000]\n",
            "loss: 0.514781 [38464/60000]\n",
            "loss: 0.655866 [44864/60000]\n",
            "loss: 0.619042 [51264/60000]\n",
            "loss: 0.501688 [57664/60000]\n",
            "Test Error: \n",
            " Accuracy: 81.4%, Avg loss: 0.525490 \n",
            "\n",
            "Epoch 15\n",
            "------------------------\n",
            "loss: 0.416868 [   64/60000]\n",
            "loss: 0.536558 [ 6464/60000]\n",
            "loss: 0.348721 [12864/60000]\n",
            "loss: 0.589746 [19264/60000]\n",
            "loss: 0.510235 [25664/60000]\n",
            "loss: 0.514078 [32064/60000]\n",
            "loss: 0.510114 [38464/60000]\n",
            "loss: 0.656504 [44864/60000]\n",
            "loss: 0.617450 [51264/60000]\n",
            "loss: 0.495186 [57664/60000]\n",
            "Test Error: \n",
            " Accuracy: 81.4%, Avg loss: 0.522070 \n",
            "\n",
            "Epoch 16\n",
            "------------------------\n",
            "loss: 0.411307 [   64/60000]\n",
            "loss: 0.532338 [ 6464/60000]\n",
            "loss: 0.345186 [12864/60000]\n",
            "loss: 0.585157 [19264/60000]\n",
            "loss: 0.505487 [25664/60000]\n",
            "loss: 0.509882 [32064/60000]\n",
            "loss: 0.505695 [38464/60000]\n",
            "loss: 0.657102 [44864/60000]\n",
            "loss: 0.615856 [51264/60000]\n",
            "loss: 0.488979 [57664/60000]\n",
            "Test Error: \n",
            " Accuracy: 81.5%, Avg loss: 0.518842 \n",
            "\n",
            "Done!\n"
          ]
        }
      ]
    }
  ]
}